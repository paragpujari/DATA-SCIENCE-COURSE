{
 "cells": [
  {
   "cell_type": "markdown",
   "metadata": {},
   "source": [
    "# Static Method\n",
    "\n",
    "Static Method is the method which is made available to the class and is used by all the methods in the classs."
   ]
  },
  {
   "cell_type": "code",
   "execution_count": 4,
   "metadata": {},
   "outputs": [],
   "source": [
    "class Employee:\n",
    "    # define the data members\n",
    "    def input_details(self, n,a,s):\n",
    "        self.name = n\n",
    "        self.age  = a\n",
    "        self.salary = s\n",
    "        \n",
    "    # print the details\n",
    "    def print_details(self):\n",
    "        print(\"name is:\", self.name)\n",
    "        print(\"age is:\", self.age)\n",
    "        print(\"salary is:\", self.salary)\n",
    "        \n",
    "    # define the static method\n",
    "    @staticmethod\n",
    "    def print_address_details(address):\n",
    "        print(address)\n",
    "        \n",
    "        \n",
    "    # using the static method inside the instance method\n",
    "    def print_employee_details(self):\n",
    "        print(\"name is:\", self.name)\n",
    "        print(\"age is:\", self.age)\n",
    "        print(\"salary is:\", self.salary)\n",
    "        # static method\n",
    "        print(self.print_address_details(\"Hotel Travel Time Noida\"))"
   ]
  },
  {
   "cell_type": "code",
   "execution_count": 5,
   "metadata": {},
   "outputs": [
    {
     "name": "stdout",
     "output_type": "stream",
     "text": [
      "name is: Parag\n",
      "age is: 27\n",
      "salary is: 40000\n"
     ]
    }
   ],
   "source": [
    "# object calling the class\n",
    "obj = Employee()\n",
    "obj.input_details(\"Parag\",27,40000)\n",
    "obj.print_details()"
   ]
  },
  {
   "cell_type": "code",
   "execution_count": 6,
   "metadata": {},
   "outputs": [
    {
     "name": "stdout",
     "output_type": "stream",
     "text": [
      "D/49 Pradhanpara Budharaja Sambalpur Odisha - 768004\n"
     ]
    }
   ],
   "source": [
    "# class calling the static method\n",
    "Employee.print_address_details(\"D/49 Pradhanpara Budharaja Sambalpur Odisha - 768004\")"
   ]
  },
  {
   "cell_type": "code",
   "execution_count": 7,
   "metadata": {},
   "outputs": [
    {
     "name": "stdout",
     "output_type": "stream",
     "text": [
      "name is: Parag\n",
      "age is: 27\n",
      "salary is: 40000\n",
      "Hotel Travel Time Noida\n",
      "None\n"
     ]
    }
   ],
   "source": [
    "obj.print_employee_details()"
   ]
  },
  {
   "cell_type": "code",
   "execution_count": null,
   "metadata": {},
   "outputs": [],
   "source": []
  }
 ],
 "metadata": {
  "kernelspec": {
   "display_name": "Python 3",
   "language": "python",
   "name": "python3"
  },
  "language_info": {
   "codemirror_mode": {
    "name": "ipython",
    "version": 3
   },
   "file_extension": ".py",
   "mimetype": "text/x-python",
   "name": "python",
   "nbconvert_exporter": "python",
   "pygments_lexer": "ipython3",
   "version": "3.8.3"
  }
 },
 "nbformat": 4,
 "nbformat_minor": 4
}
