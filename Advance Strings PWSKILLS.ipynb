{
 "cells": [
  {
   "cell_type": "code",
   "execution_count": 4,
   "id": "660a9a60-f164-4b1b-af3a-50c111d56c12",
   "metadata": {},
   "outputs": [
    {
     "name": "stdout",
     "output_type": "stream",
     "text": [
      "data science masters\n"
     ]
    }
   ],
   "source": [
    "name = 'data science masters'\n",
    "print(name)"
   ]
  },
  {
   "cell_type": "code",
   "execution_count": 5,
   "id": "5f9976d1-2174-4161-a3d0-66bc157a01f9",
   "metadata": {},
   "outputs": [
    {
     "name": "stdout",
     "output_type": "stream",
     "text": [
      "Data Science Masters\n"
     ]
    }
   ],
   "source": [
    "print(name.title())"
   ]
  },
  {
   "cell_type": "code",
   "execution_count": 6,
   "id": "b62edf0e-cd35-4d64-9801-1749550aab59",
   "metadata": {},
   "outputs": [
    {
     "name": "stdout",
     "output_type": "stream",
     "text": [
      "Data science masters\n"
     ]
    }
   ],
   "source": [
    "print(name.capitalize())"
   ]
  },
  {
   "cell_type": "code",
   "execution_count": 10,
   "id": "03e92a85-e9b9-49c4-a8fa-f9ebe9119556",
   "metadata": {},
   "outputs": [
    {
     "name": "stdout",
     "output_type": "stream",
     "text": [
      "data science masters\n",
      "sretsam ecneics atad\n",
      "<reversed object at 0x7fc1a95c4880>\n"
     ]
    }
   ],
   "source": [
    "# Reversing the string\n",
    "print(name)\n",
    "x = name[::-1]\n",
    "print(x)\n",
    "\n",
    "print(reversed(name))"
   ]
  },
  {
   "cell_type": "code",
   "execution_count": 11,
   "id": "93c30126-eb17-4dea-8530-18d0dee19183",
   "metadata": {},
   "outputs": [
    {
     "data": {
      "text/plain": [
       "'s r e t s a m   e c n e i c s   a t a d'"
      ]
     },
     "execution_count": 11,
     "metadata": {},
     "output_type": "execute_result"
    }
   ],
   "source": [
    "' '.join(reversed(name))"
   ]
  },
  {
   "cell_type": "code",
   "execution_count": 13,
   "id": "2cf71e8b-23eb-46c6-b912-1d554f4269b5",
   "metadata": {},
   "outputs": [
    {
     "data": {
      "text/plain": [
       "'t n a'"
      ]
     },
     "execution_count": 13,
     "metadata": {},
     "output_type": "execute_result"
    }
   ],
   "source": [
    "' '.join(reversed('ant'))"
   ]
  },
  {
   "cell_type": "code",
   "execution_count": 14,
   "id": "7d1dac55-6235-44a4-9314-0ec7e8fc4bc9",
   "metadata": {},
   "outputs": [
    {
     "data": {
      "text/plain": [
       "['t', ' ', 'n', ' ', 'a']"
      ]
     },
     "execution_count": 14,
     "metadata": {},
     "output_type": "execute_result"
    }
   ],
   "source": [
    "list(' '.join(reversed('ant')))"
   ]
  },
  {
   "cell_type": "code",
   "execution_count": 16,
   "id": "878ce931-ccc8-4255-8e64-bd194410be62",
   "metadata": {},
   "outputs": [
    {
     "data": {
      "text/plain": [
       "'t Pwskills n Pwskills a'"
      ]
     },
     "execution_count": 16,
     "metadata": {},
     "output_type": "execute_result"
    }
   ],
   "source": [
    "' Pwskills '.join(reversed('ant'))"
   ]
  },
  {
   "cell_type": "code",
   "execution_count": 18,
   "id": "6c6c4de1-461f-4be0-8ca7-a12afc38079f",
   "metadata": {},
   "outputs": [
    {
     "data": {
      "text/plain": [
       "['t', 'n', 'a']"
      ]
     },
     "execution_count": 18,
     "metadata": {},
     "output_type": "execute_result"
    }
   ],
   "source": [
    "list(reversed(\"ant\"))"
   ]
  },
  {
   "cell_type": "code",
   "execution_count": 19,
   "id": "57172887-e5d1-4470-942d-48dd2d860794",
   "metadata": {},
   "outputs": [
    {
     "name": "stdout",
     "output_type": "stream",
     "text": [
      "PWSkills\n"
     ]
    }
   ],
   "source": [
    "# Removing the characters from the end of the string\n",
    "str = \"PWSkills \"\n",
    "print(str.strip(\" \"))"
   ]
  },
  {
   "cell_type": "code",
   "execution_count": 20,
   "id": "876f3744-a681-451d-8cf2-6a3c850b94ae",
   "metadata": {},
   "outputs": [
    {
     "name": "stdout",
     "output_type": "stream",
     "text": [
      "PWSkills \n"
     ]
    }
   ],
   "source": [
    "# Removing the characters from the left\n",
    "print(str.lstrip(\" \"))"
   ]
  },
  {
   "cell_type": "code",
   "execution_count": 21,
   "id": "62a8575d-9bdd-4b84-9e13-118e9957b3c7",
   "metadata": {},
   "outputs": [
    {
     "name": "stdout",
     "output_type": "stream",
     "text": [
      "PWSkills\n"
     ]
    }
   ],
   "source": [
    "# Removing the characters from the right\n",
    "print(str.rstrip(\" \"))"
   ]
  },
  {
   "cell_type": "code",
   "execution_count": 22,
   "id": "0f2e36fb-a374-4a73-8d1c-744fe0b26eaa",
   "metadata": {},
   "outputs": [
    {
     "name": "stdout",
     "output_type": "stream",
     "text": [
      "Parag Sharma\n"
     ]
    }
   ],
   "source": [
    "name = \"Parag Pujari\"\n",
    "print(name.replace(\"Pujari\", \"Sharma\"))"
   ]
  },
  {
   "cell_type": "code",
   "execution_count": 27,
   "id": "f96498a1-a13b-4082-991a-2922d8d20ab4",
   "metadata": {},
   "outputs": [
    {
     "data": {
      "text/plain": [
       "'hello   world'"
      ]
     },
     "execution_count": 27,
     "metadata": {},
     "output_type": "execute_result"
    }
   ],
   "source": [
    "\"hello \\tworld\".expandtabs()"
   ]
  },
  {
   "cell_type": "code",
   "execution_count": 28,
   "id": "427a986a-ce5f-41f3-97ce-3fb68af36b4e",
   "metadata": {},
   "outputs": [
    {
     "name": "stdout",
     "output_type": "stream",
     "text": [
      "False\n"
     ]
    }
   ],
   "source": [
    "str = \"Krish\"\n",
    "print(str.isupper())"
   ]
  },
  {
   "cell_type": "code",
   "execution_count": 29,
   "id": "3db831af-8e25-4463-bcb7-bfc3c9c6721c",
   "metadata": {},
   "outputs": [
    {
     "name": "stdout",
     "output_type": "stream",
     "text": [
      "False\n"
     ]
    }
   ],
   "source": [
    "print(str.islower())"
   ]
  },
  {
   "cell_type": "code",
   "execution_count": 30,
   "id": "350ab0fa-4f9d-4d75-9256-8f9b5fd2500b",
   "metadata": {},
   "outputs": [
    {
     "name": "stdout",
     "output_type": "stream",
     "text": [
      "True\n"
     ]
    }
   ],
   "source": [
    "print(' '.isspace())"
   ]
  },
  {
   "cell_type": "code",
   "execution_count": 31,
   "id": "9afc4fc9-9cdc-4329-b193-ddf2d9572ec2",
   "metadata": {},
   "outputs": [
    {
     "name": "stdout",
     "output_type": "stream",
     "text": [
      "True\n"
     ]
    }
   ],
   "source": [
    "print(str.startswith('K'))"
   ]
  },
  {
   "cell_type": "code",
   "execution_count": 32,
   "id": "4d0b02dc-d429-4509-b414-2c62c635e760",
   "metadata": {},
   "outputs": [
    {
     "name": "stdout",
     "output_type": "stream",
     "text": [
      "True\n"
     ]
    }
   ],
   "source": [
    "print(str.endswith('h'))"
   ]
  },
  {
   "cell_type": "code",
   "execution_count": 34,
   "id": "9372612b-52a5-4a70-91a2-426f36ddc48d",
   "metadata": {},
   "outputs": [
    {
     "name": "stdout",
     "output_type": "stream",
     "text": [
      "True\n"
     ]
    }
   ],
   "source": [
    "# check if all the characters are alphanumeric\n",
    "asc = \"abcd1234\"\n",
    "print(asc.isalnum())"
   ]
  },
  {
   "cell_type": "code",
   "execution_count": 2,
   "id": "5e675f53-6cff-494a-b1a8-10661a55c73d",
   "metadata": {},
   "outputs": [
    {
     "name": "stdout",
     "output_type": "stream",
     "text": [
      "['Parag', 'Pujari', 'is', 'working']\n",
      "Total number of characters in the string is: 4\n"
     ]
    }
   ],
   "source": [
    "# count the number of words in the string\n",
    "text = \"Parag Pujari is working\"\n",
    "\n",
    "z = text.split(' ')\n",
    "print(z)\n",
    "\n",
    "s = len(z)\n",
    "print(\"Total number of characters in the string is:\", s)"
   ]
  },
  {
   "cell_type": "code",
   "execution_count": 3,
   "id": "68525fba-b4e6-4700-a4da-e1b1621a70aa",
   "metadata": {},
   "outputs": [
    {
     "name": "stdout",
     "output_type": "stream",
     "text": [
      "Strings are palindrome in nature: madam\n"
     ]
    }
   ],
   "source": [
    "# To check if the string is palindrome or not\n",
    "\n",
    "str = \"madam\"\n",
    "\n",
    "x = str[::-1]\n",
    "\n",
    "if(str == x):\n",
    "    print(\"Strings are palindrome in nature:\", str)\n",
    "else:\n",
    "    print(\"Strings are not palindrome in nature:\", str)"
   ]
  },
  {
   "cell_type": "code",
   "execution_count": 5,
   "id": "2792cbe4-d68b-45e2-b65a-70501556d54b",
   "metadata": {},
   "outputs": [
    {
     "name": "stdout",
     "output_type": "stream",
     "text": [
      "['a', 'e', 'i', 'o', 'u', 'A', 'E', 'I', 'O', 'U']\n",
      "No of vowels in the sentence: 5\n",
      "No of consonants in the sentence is: 5\n"
     ]
    }
   ],
   "source": [
    "# To count the number of vowels and consonants in the sentence\n",
    "vowels = list('aeiouAEIOU')\n",
    "print(vowels)\n",
    "\n",
    "nv = 0\n",
    "nc = 0\n",
    "name = \"Arzoo Abha\"\n",
    "for i in name:\n",
    "    if(i in vowels):\n",
    "        nv = nv + 1\n",
    "    else:\n",
    "        nc = nc + 1\n",
    "    \n",
    "print(\"No of vowels in the sentence:\", nv)\n",
    "print(\"No of consonants in the sentence is:\", nc)"
   ]
  },
  {
   "cell_type": "code",
   "execution_count": null,
   "id": "a2aa53ee-40d4-4f4d-803b-cdc426efdafa",
   "metadata": {},
   "outputs": [],
   "source": []
  }
 ],
 "metadata": {
  "kernelspec": {
   "display_name": "Python 3 (ipykernel)",
   "language": "python",
   "name": "python3"
  },
  "language_info": {
   "codemirror_mode": {
    "name": "ipython",
    "version": 3
   },
   "file_extension": ".py",
   "mimetype": "text/x-python",
   "name": "python",
   "nbconvert_exporter": "python",
   "pygments_lexer": "ipython3",
   "version": "3.10.8"
  }
 },
 "nbformat": 4,
 "nbformat_minor": 5
}
