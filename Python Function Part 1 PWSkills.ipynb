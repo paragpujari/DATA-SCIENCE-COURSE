{
 "cells": [
  {
   "cell_type": "markdown",
   "metadata": {},
   "source": [
    "# Function\n",
    "\n",
    "It is a procedure that breaks the program into small section of code and thus reduces the complexity of the program."
   ]
  },
  {
   "cell_type": "markdown",
   "metadata": {},
   "source": [
    "# 1. \n",
    "In Build Functions"
   ]
  },
  {
   "cell_type": "code",
   "execution_count": 4,
   "metadata": {},
   "outputs": [
    {
     "name": "stdout",
     "output_type": "stream",
     "text": [
      "This is mu program\n"
     ]
    }
   ],
   "source": [
    "print(\"This is mu program\")"
   ]
  },
  {
   "cell_type": "markdown",
   "metadata": {},
   "source": [
    "# 2.\n",
    "\n",
    "User Defined Functions"
   ]
  },
  {
   "cell_type": "code",
   "execution_count": 6,
   "metadata": {},
   "outputs": [
    {
     "name": "stdout",
     "output_type": "stream",
     "text": [
      "This is my text data\n"
     ]
    }
   ],
   "source": [
    "# Functions without parameter\n",
    "\n",
    "def text():\n",
    "    print(\"This is my text data\")\n",
    "\n",
    "\n",
    "\n",
    "text()"
   ]
  },
  {
   "cell_type": "code",
   "execution_count": 7,
   "metadata": {},
   "outputs": [],
   "source": [
    "def test():\n",
    "    pass"
   ]
  },
  {
   "cell_type": "code",
   "execution_count": 8,
   "metadata": {},
   "outputs": [
    {
     "name": "stdout",
     "output_type": "stream",
     "text": [
      "This is my program\n"
     ]
    }
   ],
   "source": [
    "# functions with parameter\n",
    "\n",
    "def text(sentence):\n",
    "    print(sentence)\n",
    "\n",
    "\n",
    "text(\"This is my program\")"
   ]
  },
  {
   "cell_type": "code",
   "execution_count": 10,
   "metadata": {},
   "outputs": [
    {
     "name": "stdout",
     "output_type": "stream",
     "text": [
      "Enter the first number:10\n",
      "Enter the second number:10\n",
      "Sum of two numbers is: 20\n"
     ]
    }
   ],
   "source": [
    "# Addition of two numbers using functions\n",
    "a = int(input(\"Enter the first number:\"))\n",
    "b = int(input(\"Enter the second number:\"))\n",
    "\n",
    "def sum(a,b):\n",
    "    print(\"Sum of two numbers is:\", (a + b))\n",
    "\n",
    "\n",
    "\n",
    "sum(a,b)"
   ]
  },
  {
   "cell_type": "code",
   "execution_count": 16,
   "metadata": {},
   "outputs": [
    {
     "name": "stdout",
     "output_type": "stream",
     "text": [
      "This is my text function\n"
     ]
    },
    {
     "data": {
      "text/plain": [
       "'This is my text function Data'"
      ]
     },
     "execution_count": 16,
     "metadata": {},
     "output_type": "execute_result"
    }
   ],
   "source": [
    "# Combination of string and none type\n",
    "\n",
    "def text():\n",
    "    return \"This is my text function\"\n",
    "\n",
    "\n",
    "a = text() \n",
    "print(a)\n",
    "\n",
    "\n",
    "a + \" Data\""
   ]
  },
  {
   "cell_type": "code",
   "execution_count": 21,
   "metadata": {},
   "outputs": [
    {
     "name": "stdout",
     "output_type": "stream",
     "text": [
      "This is my text\n"
     ]
    },
    {
     "data": {
      "text/plain": [
       "'This is my text function Tool'"
      ]
     },
     "execution_count": 21,
     "metadata": {},
     "output_type": "execute_result"
    }
   ],
   "source": [
    "def ethan():\n",
    "    print(\"This is my text\")\n",
    "    \n",
    "ethan()\n",
    "\n",
    "a + \" Tool\"\n",
    "\n"
   ]
  },
  {
   "cell_type": "code",
   "execution_count": 23,
   "metadata": {},
   "outputs": [
    {
     "name": "stdout",
     "output_type": "stream",
     "text": [
      "This is my app fro the function\n",
      "This is my app fro the function\n"
     ]
    },
    {
     "ename": "TypeError",
     "evalue": "unsupported operand type(s) for +: 'NoneType' and 'int'",
     "output_type": "error",
     "traceback": [
      "\u001b[1;31m---------------------------------------------------------------------------\u001b[0m",
      "\u001b[1;31mTypeError\u001b[0m                                 Traceback (most recent call last)",
      "\u001b[1;32m<ipython-input-23-c6a618f6e00c>\u001b[0m in \u001b[0;36m<module>\u001b[1;34m\u001b[0m\n\u001b[0;32m      5\u001b[0m \u001b[1;33m\u001b[0m\u001b[0m\n\u001b[0;32m      6\u001b[0m \u001b[1;33m\u001b[0m\u001b[0m\n\u001b[1;32m----> 7\u001b[1;33m \u001b[0mfunctionapp\u001b[0m\u001b[1;33m(\u001b[0m\u001b[1;33m)\u001b[0m \u001b[1;33m+\u001b[0m \u001b[1;36m10\u001b[0m\u001b[1;33m\u001b[0m\u001b[1;33m\u001b[0m\u001b[0m\n\u001b[0m",
      "\u001b[1;31mTypeError\u001b[0m: unsupported operand type(s) for +: 'NoneType' and 'int'"
     ]
    }
   ],
   "source": [
    "def functionapp():\n",
    "    print(\"This is my app fro the function\")\n",
    "    \n",
    "functionapp()\n",
    "\n",
    "\n",
    "functionapp() + 10"
   ]
  },
  {
   "cell_type": "code",
   "execution_count": 24,
   "metadata": {},
   "outputs": [
    {
     "data": {
      "text/plain": [
       "(1, 2, 'parag', 70.98)"
      ]
     },
     "execution_count": 24,
     "metadata": {},
     "output_type": "execute_result"
    }
   ],
   "source": [
    "def test3():\n",
    "    return(1,2,\"parag\",70.98)\n",
    "\n",
    "\n",
    "test3()"
   ]
  },
  {
   "cell_type": "code",
   "execution_count": 25,
   "metadata": {},
   "outputs": [
    {
     "name": "stdout",
     "output_type": "stream",
     "text": [
      "Enter the number:5\n",
      "Factorial of the number is: 120\n"
     ]
    }
   ],
   "source": [
    "# Factorial of the number\n",
    "import math\n",
    "def factorial(num):\n",
    "    return(math.factorial(num))\n",
    "\n",
    "num = int(input(\"Enter the number:\"))\n",
    "f = factorial(num)\n",
    "print(\"Factorial of the number is:\", f)"
   ]
  },
  {
   "cell_type": "code",
   "execution_count": 26,
   "metadata": {},
   "outputs": [
    {
     "name": "stdout",
     "output_type": "stream",
     "text": [
      "[10, 20, 30, 40, 50, 60, 70, 80, 90, 100]\n"
     ]
    }
   ],
   "source": [
    "# write a function to append all the elements into the empty list\n",
    "empty = []\n",
    "def appenddata(l):\n",
    "    for i in l:\n",
    "        empty.append(i)\n",
    "    return(empty)\n",
    "\n",
    "\n",
    "l = [10,20,30,40,50,60,70,80,90,100]\n",
    "ans = appenddata(l)\n",
    "print(ans)"
   ]
  },
  {
   "cell_type": "code",
   "execution_count": 1,
   "metadata": {},
   "outputs": [
    {
     "name": "stdout",
     "output_type": "stream",
     "text": [
      "[10, 20, 30, 40, 50, 60, 70, [80, 90, 100]]\n"
     ]
    }
   ],
   "source": [
    "# write a program to append all the elements into the empty list if the element is an integer then append it into the list, if the list has a list then append it into the list\n",
    "def lst_datas(l):\n",
    "    empty = []\n",
    "    \n",
    "    for i in l:\n",
    "        if(type(i) == int):\n",
    "            empty.append(i)\n",
    "        elif(type(i) == list):\n",
    "            empty.append(i)\n",
    "    return(empty)\n",
    "\n",
    "\n",
    "l = [10,20,30,40,50,60,70,[80,90,100]]\n",
    "ans = lst_datas(l)\n",
    "print(ans)"
   ]
  },
  {
   "cell_type": "code",
   "execution_count": null,
   "metadata": {},
   "outputs": [],
   "source": []
  }
 ],
 "metadata": {
  "kernelspec": {
   "display_name": "Python 3",
   "language": "python",
   "name": "python3"
  },
  "language_info": {
   "codemirror_mode": {
    "name": "ipython",
    "version": 3
   },
   "file_extension": ".py",
   "mimetype": "text/x-python",
   "name": "python",
   "nbconvert_exporter": "python",
   "pygments_lexer": "ipython3",
   "version": "3.8.3"
  }
 },
 "nbformat": 4,
 "nbformat_minor": 4
}
