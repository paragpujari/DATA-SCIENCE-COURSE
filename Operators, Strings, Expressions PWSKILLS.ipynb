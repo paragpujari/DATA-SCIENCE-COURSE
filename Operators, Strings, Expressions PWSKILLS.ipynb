{
 "cells": [
  {
   "cell_type": "markdown",
   "id": "27ffb08f-12ec-4595-be8f-19a43a6ef829",
   "metadata": {},
   "source": [
    "# Logical Operators"
   ]
  },
  {
   "cell_type": "code",
   "execution_count": 2,
   "id": "438cb3b4-9ffe-45cd-bbc5-7e18df6bed84",
   "metadata": {},
   "outputs": [
    {
     "name": "stdout",
     "output_type": "stream",
     "text": [
      "True\n",
      "False\n",
      "True\n"
     ]
    }
   ],
   "source": [
    "a = 10\n",
    "b = 5\n",
    "\n",
    "print((a > b) or (b > a))\n",
    "print((a < b) and (b < a))\n",
    "print((not(a < b) and (b < a)))"
   ]
  },
  {
   "cell_type": "markdown",
   "id": "8d3bdbe2-7d65-4d83-bbed-2540fdba33c3",
   "metadata": {},
   "source": [
    "# Expressions"
   ]
  },
  {
   "cell_type": "code",
   "execution_count": 7,
   "id": "3ff67cef-8133-4f93-a427-56eb86cf2f70",
   "metadata": {},
   "outputs": [
    {
     "name": "stdout",
     "output_type": "stream",
     "text": [
      "1040\n",
      "-112.5\n",
      "15413.333333333332\n"
     ]
    }
   ],
   "source": [
    "a = 90\n",
    "b = 12\n",
    "c = 80\n",
    "\n",
    "print(a + (b * c) + (c -a))\n",
    "print(b * (c - a) + (a/b))\n",
    "print((c + a) * (b +a) * (c/a))"
   ]
  },
  {
   "cell_type": "code",
   "execution_count": 11,
   "id": "91944ac3-830e-411e-97ec-d1735beca95c",
   "metadata": {},
   "outputs": [
    {
     "data": {
      "text/plain": [
       "True"
      ]
     },
     "execution_count": 11,
     "metadata": {},
     "output_type": "execute_result"
    }
   ],
   "source": [
    "True * False\n",
    "\n",
    "True * True\n",
    "\n",
    "not(True) * False"
   ]
  },
  {
   "cell_type": "markdown",
   "id": "c0c9bc31-c4e4-42f1-bfc7-62a7203fa7ac",
   "metadata": {},
   "source": [
    "# Membership Operators"
   ]
  },
  {
   "cell_type": "code",
   "execution_count": 15,
   "id": "ae586924-5ffd-4c0a-b00a-876ca378dce9",
   "metadata": {},
   "outputs": [
    {
     "name": "stdout",
     "output_type": "stream",
     "text": [
      "False\n",
      "True\n",
      "True\n",
      "False\n"
     ]
    }
   ],
   "source": [
    "lst_a = [1,2,3,4]\n",
    "lst_b = [1,2,3,4]\n",
    "\n",
    "print(lst_a is lst_b)\n",
    "\n",
    "print(lst_a == lst_b)\n",
    "\n",
    "\n",
    "\n",
    "print(lst_a is not lst_b)\n",
    "\n",
    "print(lst_a != lst_b)"
   ]
  },
  {
   "cell_type": "code",
   "execution_count": 16,
   "id": "266b1c78-0492-4f54-9e60-7f0fa24ffea1",
   "metadata": {},
   "outputs": [
    {
     "name": "stdout",
     "output_type": "stream",
     "text": [
      "140719775576576\n",
      "140719775572864\n"
     ]
    }
   ],
   "source": [
    "print(id(lst_a))\n",
    "print(id(lst_b))"
   ]
  },
  {
   "cell_type": "code",
   "execution_count": 18,
   "id": "743360bf-ccdd-4f12-a993-0d2c5dc7a4d3",
   "metadata": {},
   "outputs": [
    {
     "name": "stdout",
     "output_type": "stream",
     "text": [
      "140719859548432\n",
      "140719859548432\n",
      "True\n"
     ]
    }
   ],
   "source": [
    "a = 2\n",
    "b = 2\n",
    "\n",
    "print(id(a))\n",
    "print(id(b))\n",
    "print(a is b)"
   ]
  },
  {
   "cell_type": "code",
   "execution_count": 20,
   "id": "3e08560d-3183-4f43-82d4-1498766278d8",
   "metadata": {},
   "outputs": [
    {
     "name": "stdout",
     "output_type": "stream",
     "text": [
      "140719775608560\n",
      "140719775608560\n",
      "True\n"
     ]
    }
   ],
   "source": [
    "str1 = \"Krish\"\n",
    "str2 = \"Krish\"\n",
    "\n",
    "print(id(str1))\n",
    "print(id(str2))\n",
    "\n",
    "print(str1  is str2)"
   ]
  },
  {
   "cell_type": "code",
   "execution_count": 21,
   "id": "38c79969-def0-4d7c-a13a-8e36cf1d4d2c",
   "metadata": {},
   "outputs": [
    {
     "name": "stdout",
     "output_type": "stream",
     "text": [
      "140719775608560\n",
      "140719775543600\n",
      "False\n"
     ]
    }
   ],
   "source": [
    "str1 = \"Krish\"\n",
    "str2 = \"Krish1\"\n",
    "\n",
    "print(id(str1))\n",
    "print(id(str2))\n",
    "\n",
    "print(str1  is str2)"
   ]
  },
  {
   "cell_type": "markdown",
   "id": "2c416825-28e3-41d1-be07-0f98953b2aad",
   "metadata": {},
   "source": [
    "# Comaprision Operators"
   ]
  },
  {
   "cell_type": "code",
   "execution_count": 22,
   "id": "86634023-e4aa-4d11-8f12-5fd29fdec7ae",
   "metadata": {},
   "outputs": [
    {
     "name": "stdout",
     "output_type": "stream",
     "text": [
      "False\n",
      "False\n",
      "True\n",
      "True\n",
      "False\n",
      "True\n"
     ]
    }
   ],
   "source": [
    "a = 10\n",
    "b = 5\n",
    "\n",
    "print(a < b)\n",
    "print(a <= b)\n",
    "print(a > b)\n",
    "print(a >= b)\n",
    "print(a == b)\n",
    "print(a != b)"
   ]
  },
  {
   "cell_type": "markdown",
   "id": "c63984fd-5246-4452-9f77-ee0bc40c7525",
   "metadata": {},
   "source": [
    "# Arithmetic Operators"
   ]
  },
  {
   "cell_type": "code",
   "execution_count": 24,
   "id": "3cc961ec-5d6b-44c2-ae3e-76871c94a995",
   "metadata": {},
   "outputs": [
    {
     "name": "stdout",
     "output_type": "stream",
     "text": [
      "15\n",
      "5\n",
      "50\n",
      "2.0\n",
      "2\n",
      "0\n"
     ]
    }
   ],
   "source": [
    "a = 10\n",
    "b = 5\n",
    "\n",
    "print(a + b)\n",
    "print(a - b)\n",
    "print(a * b)\n",
    "print(a / b)\n",
    "print(a // b)\n",
    "print(a % b)"
   ]
  },
  {
   "cell_type": "markdown",
   "id": "10cb28ca-d5d8-499d-bb6a-33261efde235",
   "metadata": {},
   "source": [
    "# Relational Operators"
   ]
  },
  {
   "cell_type": "code",
   "execution_count": 1,
   "id": "861f8ef0-b936-499a-8df7-94f96b7e820e",
   "metadata": {},
   "outputs": [
    {
     "name": "stdout",
     "output_type": "stream",
     "text": [
      "False\n",
      "True\n",
      "False\n",
      "True\n",
      "False\n",
      "True\n"
     ]
    }
   ],
   "source": [
    "a = 10\n",
    "b = 5\n",
    "\n",
    "print(a < b)\n",
    "print(a > b)\n",
    "print(a <= b)\n",
    "print(a >= b)\n",
    "print(a == b)\n",
    "print(a != b)"
   ]
  },
  {
   "cell_type": "markdown",
   "id": "564bf108-4dea-407c-93cb-bd52432bb453",
   "metadata": {},
   "source": [
    "# Bitwise Operators"
   ]
  },
  {
   "cell_type": "code",
   "execution_count": 25,
   "id": "5e72ba7d-b56a-4d33-9fcd-96b518cc189b",
   "metadata": {},
   "outputs": [
    {
     "name": "stdout",
     "output_type": "stream",
     "text": [
      "0\n",
      "15\n",
      "15\n",
      "10\n",
      "40\n",
      "2\n"
     ]
    }
   ],
   "source": [
    "a = 10\n",
    "b = 5\n",
    "\n",
    "print(a & b)\n",
    "print(a | b)\n",
    "print(a ^ b)\n",
    "print(a  & ~b)\n",
    "print(a << 2)\n",
    "print(b >> 1)"
   ]
  },
  {
   "cell_type": "markdown",
   "id": "052e4b0c-f182-44a1-b43a-90e827926fdc",
   "metadata": {},
   "source": [
    "# Strings"
   ]
  },
  {
   "cell_type": "code",
   "execution_count": 26,
   "id": "e5fa123d-ddae-4a27-b5bb-03b49b39a61b",
   "metadata": {},
   "outputs": [
    {
     "name": "stdout",
     "output_type": "stream",
     "text": [
      "Welcome to Data Science Masters\n",
      "<class 'str'>\n"
     ]
    }
   ],
   "source": [
    "str = 'Welcome to Data Science Masters'\n",
    "\n",
    "print(str)\n",
    "print(type(str))"
   ]
  },
  {
   "cell_type": "code",
   "execution_count": 27,
   "id": "dee0ea06-033a-4d84-a0da-a4ded65ab89c",
   "metadata": {},
   "outputs": [
    {
     "ename": "TypeError",
     "evalue": "'str' object does not support item assignment",
     "output_type": "error",
     "traceback": [
      "\u001b[0;31m---------------------------------------------------------------------------\u001b[0m",
      "\u001b[0;31mTypeError\u001b[0m                                 Traceback (most recent call last)",
      "Cell \u001b[0;32mIn[27], line 2\u001b[0m\n\u001b[1;32m      1\u001b[0m \u001b[38;5;66;03m# Strings are immutable\u001b[39;00m\n\u001b[0;32m----> 2\u001b[0m \u001b[38;5;28;43mstr\u001b[39;49m\u001b[43m[\u001b[49m\u001b[38;5;241;43m1\u001b[39;49m\u001b[43m]\u001b[49m \u001b[38;5;241m=\u001b[39m \u001b[38;5;124m'\u001b[39m\u001b[38;5;124mk\u001b[39m\u001b[38;5;124m'\u001b[39m\n\u001b[1;32m      3\u001b[0m \u001b[38;5;28mprint\u001b[39m(\u001b[38;5;28mstr\u001b[39m)\n",
      "\u001b[0;31mTypeError\u001b[0m: 'str' object does not support item assignment"
     ]
    }
   ],
   "source": [
    "# Strings are immutable\n",
    "str[1] = 'k'\n",
    "print(str)"
   ]
  },
  {
   "cell_type": "code",
   "execution_count": 28,
   "id": "50dd6a1d-2404-405c-9f88-4fdc70e32b69",
   "metadata": {},
   "outputs": [
    {
     "name": "stdout",
     "output_type": "stream",
     "text": [
      "lcome to Data Science Masters\n"
     ]
    }
   ],
   "source": [
    "# Indexing in strings\n",
    "print(str[2:])"
   ]
  },
  {
   "cell_type": "code",
   "execution_count": 29,
   "id": "024b0fdc-68b6-4628-83a8-afa34e6454f7",
   "metadata": {},
   "outputs": [
    {
     "name": "stdout",
     "output_type": "stream",
     "text": [
      "W e l c o m e   t o   D a t a   S c i e n c e   M a s t e r s "
     ]
    }
   ],
   "source": [
    "for i in str:\n",
    "    print(i, end = ' ')"
   ]
  },
  {
   "cell_type": "code",
   "execution_count": 34,
   "id": "73cd3c2f-65fb-4b39-a01c-dfefc05a07f7",
   "metadata": {},
   "outputs": [
    {
     "name": "stdout",
     "output_type": "stream",
     "text": [
      "ome to\n",
      "Data\n",
      "s\n",
      "Ma\n",
      "Mast\n"
     ]
    }
   ],
   "source": [
    "# slicing in strings\n",
    "\n",
    "print(str[4:10])\n",
    "print(str[11:15])\n",
    "print(str[-1])\n",
    "print(str[-7:-5])\n",
    "print(str[-7:-3])"
   ]
  },
  {
   "cell_type": "code",
   "execution_count": 35,
   "id": "70a10f98-a255-452f-8915-12e9afaaad3c",
   "metadata": {},
   "outputs": [
    {
     "name": "stdout",
     "output_type": "stream",
     "text": [
      "rt\n"
     ]
    }
   ],
   "source": [
    "name = \"Karthik\"\n",
    "print(name[-5:4])"
   ]
  },
  {
   "cell_type": "code",
   "execution_count": 43,
   "id": "d681466a-e5da-4bf7-9905-e8ec43fac0a3",
   "metadata": {},
   "outputs": [
    {
     "name": "stdout",
     "output_type": "stream",
     "text": [
      "Welcome to Data Science Masters\n",
      "Wloet aaSineMses\n",
      "sretsaM ecneicS ataD ot emocleW\n",
      "sesMeniSaa teolW\n",
      "stMci aoecW\n",
      "ocleW\n"
     ]
    }
   ],
   "source": [
    "print(str)\n",
    "print(str[::2])\n",
    "\n",
    "# string in reverse form\n",
    "print(str[::-1])\n",
    "print(str[::-2])\n",
    "print(str[::-3])\n",
    "print(str[4::-1])"
   ]
  },
  {
   "cell_type": "code",
   "execution_count": 47,
   "id": "00f6e2fe-59bd-4e11-9bc4-3cf4d5f24197",
   "metadata": {},
   "outputs": [
    {
     "name": "stdout",
     "output_type": "stream",
     "text": [
      "Karthik\n",
      "htraK\n",
      "raK\n"
     ]
    }
   ],
   "source": [
    "print(name)\n",
    "print(name[4::-1])\n",
    "print(name[2::-1])"
   ]
  },
  {
   "cell_type": "code",
   "execution_count": 52,
   "id": "ac45ee5a-8998-441a-b4e0-ec6ff098cc32",
   "metadata": {},
   "outputs": [
    {
     "name": "stdout",
     "output_type": "stream",
     "text": [
      "cience\n"
     ]
    }
   ],
   "source": [
    "course_name = \"Data Science Masters\"\n",
    "print(course_name[6:12])"
   ]
  },
  {
   "cell_type": "code",
   "execution_count": 51,
   "id": "587f0685-39fe-4d73-8e47-2f98d9862878",
   "metadata": {},
   "outputs": [
    {
     "name": "stdout",
     "output_type": "stream",
     "text": [
      "0\n"
     ]
    }
   ],
   "source": [
    "print(course_name.index('D'))"
   ]
  },
  {
   "cell_type": "code",
   "execution_count": 54,
   "id": "3d8d2aee-6b78-438a-b5c4-e11573a41f17",
   "metadata": {},
   "outputs": [
    {
     "name": "stdout",
     "output_type": "stream",
     "text": [
      " ecnei\n"
     ]
    }
   ],
   "source": [
    "print(course_name[12:6:-1])"
   ]
  },
  {
   "cell_type": "code",
   "execution_count": 55,
   "id": "84fe96de-ca16-4831-9b63-3b3921c508e7",
   "metadata": {},
   "outputs": [
    {
     "name": "stdout",
     "output_type": "stream",
     "text": [
      " ecneicS\n"
     ]
    }
   ],
   "source": [
    "print(course_name[12:4:-1])"
   ]
  },
  {
   "cell_type": "code",
   "execution_count": 56,
   "id": "3256da98-19b5-46b0-8d2e-83816b21b4f0",
   "metadata": {},
   "outputs": [
    {
     "name": "stdout",
     "output_type": "stream",
     "text": [
      " ecneic\n"
     ]
    }
   ],
   "source": [
    "print(course_name[12:5:-1])"
   ]
  },
  {
   "cell_type": "code",
   "execution_count": 57,
   "id": "2ae06592-2af9-40fc-8974-e42e525a697d",
   "metadata": {},
   "outputs": [
    {
     "name": "stdout",
     "output_type": "stream",
     "text": [
      "Data Science MastersData Science MastersData Science MastersData Science MastersData Science Masters\n"
     ]
    }
   ],
   "source": [
    "# Replication in Strings\n",
    "print(course_name * 5)"
   ]
  },
  {
   "cell_type": "code",
   "execution_count": 58,
   "id": "d7f8a1ed-6220-44cb-b021-b95597a1bb72",
   "metadata": {},
   "outputs": [
    {
     "name": "stdout",
     "output_type": "stream",
     "text": [
      "20\n"
     ]
    }
   ],
   "source": [
    "# length of the string\n",
    "print(len(course_name))"
   ]
  },
  {
   "cell_type": "code",
   "execution_count": 67,
   "id": "ee7df208-68d9-49fc-a1ce-ceee8bbf2c5f",
   "metadata": {},
   "outputs": [
    {
     "name": "stdout",
     "output_type": "stream",
     "text": [
      "Data Science Masters\n",
      "5\n",
      "1\n",
      "-1\n",
      "3\n"
     ]
    }
   ],
   "source": [
    "print(course_name)\n",
    "# find = It is used to return the index of the first occurance of the character for which we are finding\n",
    "print(course_name.find('S'))\n",
    "print(course_name.find('a'))\n",
    "print(course_name.find('z'))\n",
    "print(course_name.find('a',2,10))"
   ]
  },
  {
   "cell_type": "code",
   "execution_count": 68,
   "id": "ac4b7973-c053-424c-9cc8-22b38ed0f680",
   "metadata": {},
   "outputs": [
    {
     "name": "stdout",
     "output_type": "stream",
     "text": [
      "3\n"
     ]
    }
   ],
   "source": [
    "# count = It returns the count of the occurances of the characters in the tsring.\n",
    "print(course_name.count('a'))\n"
   ]
  },
  {
   "cell_type": "code",
   "execution_count": 69,
   "id": "a44f008d-2716-45a2-a64e-092c7b1a4d91",
   "metadata": {},
   "outputs": [
    {
     "name": "stdout",
     "output_type": "stream",
     "text": [
      "['Data', 'Science', 'Masters']\n"
     ]
    }
   ],
   "source": [
    "# split() = It breaks the string into parts\n",
    "print(course_name.split(' '))"
   ]
  },
  {
   "cell_type": "code",
   "execution_count": 72,
   "id": "b254af4d-3fc3-4895-b480-88d940078484",
   "metadata": {},
   "outputs": [
    {
     "name": "stdout",
     "output_type": "stream",
     "text": [
      "Data Science Masters\n",
      "('Data ', 'S', 'cience Masters')\n"
     ]
    }
   ],
   "source": [
    "# partition() = It breaks the string into parts based on the partition value specified.\n",
    "print(course_name)\n",
    "print(course_name.partition('S'))"
   ]
  },
  {
   "cell_type": "code",
   "execution_count": 74,
   "id": "1613e906-f2cc-4250-81a3-b281d8e1a298",
   "metadata": {},
   "outputs": [
    {
     "name": "stdout",
     "output_type": "stream",
     "text": [
      "data science masters\n"
     ]
    }
   ],
   "source": [
    "# lower case = It returns the string in lower case\n",
    "\n",
    "print(course_name.lower())"
   ]
  },
  {
   "cell_type": "code",
   "execution_count": 75,
   "id": "02262309-c469-414d-b4bf-d3c9fe80ad8d",
   "metadata": {},
   "outputs": [
    {
     "name": "stdout",
     "output_type": "stream",
     "text": [
      "DATA SCIENCE MASTERS\n"
     ]
    }
   ],
   "source": [
    "# upper case = It returns the string in upper case\n",
    "\n",
    "print(course_name.upper())"
   ]
  },
  {
   "cell_type": "code",
   "execution_count": 76,
   "id": "4eb50e93-d9d8-49ca-acec-8b8e0fedf680",
   "metadata": {},
   "outputs": [
    {
     "name": "stdout",
     "output_type": "stream",
     "text": [
      "Data Science Masters\n"
     ]
    }
   ],
   "source": [
    "# title = It retunne the first letter of every word in capital\n",
    "print(course_name.title())"
   ]
  },
  {
   "cell_type": "code",
   "execution_count": null,
   "id": "2a57a7e0-efc8-4ce0-976d-0eccfea2f5d2",
   "metadata": {},
   "outputs": [],
   "source": []
  }
 ],
 "metadata": {
  "kernelspec": {
   "display_name": "Python 3 (ipykernel)",
   "language": "python",
   "name": "python3"
  },
  "language_info": {
   "codemirror_mode": {
    "name": "ipython",
    "version": 3
   },
   "file_extension": ".py",
   "mimetype": "text/x-python",
   "name": "python",
   "nbconvert_exporter": "python",
   "pygments_lexer": "ipython3",
   "version": "3.10.8"
  }
 },
 "nbformat": 4,
 "nbformat_minor": 5
}
