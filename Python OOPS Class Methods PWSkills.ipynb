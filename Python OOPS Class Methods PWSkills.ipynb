{
 "cells": [
  {
   "cell_type": "markdown",
   "metadata": {},
   "source": [
    "# Class Methods"
   ]
  },
  {
   "cell_type": "code",
   "execution_count": 4,
   "metadata": {},
   "outputs": [],
   "source": [
    "# Here for Class Methods, we use a decorator which helps to pass the values directly to the class.\n",
    "class Person:\n",
    "    \n",
    "    def __init__(self,n,a,s,ad,st):\n",
    "        self.name = n\n",
    "        self.age  = a\n",
    "        self.sex  = s\n",
    "        self.address = ad\n",
    "        self.state = st\n",
    "        \n",
    "    # use the decorator to pass the values to the class\n",
    "    @classmethod\n",
    "    def input_details(cls, name, age, sex, address, state):\n",
    "        return(cls(name, age, sex, address, state))\n",
    "    \n",
    "    def Person_details(self):\n",
    "        print(self.name)\n",
    "        print(self.age)\n",
    "        print(self.sex)\n",
    "        print(self.address)\n",
    "        print(self.state)"
   ]
  },
  {
   "cell_type": "code",
   "execution_count": 5,
   "metadata": {},
   "outputs": [
    {
     "data": {
      "text/plain": [
       "<__main__.Person at 0x1c0a5c183d0>"
      ]
     },
     "execution_count": 5,
     "metadata": {},
     "output_type": "execute_result"
    }
   ],
   "source": [
    "# class calling the function\n",
    "Person.input_details(\"Parag\",27,\"Male\",\"Pradhan Para\", \"Odisha\")"
   ]
  },
  {
   "cell_type": "code",
   "execution_count": 6,
   "metadata": {},
   "outputs": [],
   "source": [
    "add = Person.input_details(\"Parag\",27,\"Male\",\"Pradhan Para\", \"Odisha\")"
   ]
  },
  {
   "cell_type": "code",
   "execution_count": 7,
   "metadata": {},
   "outputs": [
    {
     "name": "stdout",
     "output_type": "stream",
     "text": [
      "Parag\n",
      "27\n",
      "Male\n",
      "Pradhan Para\n",
      "Odisha\n"
     ]
    }
   ],
   "source": [
    "# To access the data members of the class\n",
    "print(add.name)\n",
    "print(add.age)\n",
    "print(add.sex)\n",
    "print(add.address)\n",
    "print(add.state)"
   ]
  },
  {
   "cell_type": "code",
   "execution_count": 8,
   "metadata": {},
   "outputs": [],
   "source": [
    "class Alpha:\n",
    "    # To initialize the data members of the class\n",
    "    def __init__(self, name, age, salary):\n",
    "        self.name = name\n",
    "        self.age  = age\n",
    "        self.salary = salary\n",
    "        \n",
    "    # To create the decorator that helps the class to take the values for the data members\n",
    "    @classmethod\n",
    "    def input_details_data(cls,name, age, salary):\n",
    "        return(cls(name, age, salary))\n",
    "    \n",
    "    def Alpha_Details_Data(self):\n",
    "        print(self.name)\n",
    "        print(self.age)\n",
    "        print(self.salary)"
   ]
  },
  {
   "cell_type": "code",
   "execution_count": 9,
   "metadata": {},
   "outputs": [
    {
     "data": {
      "text/plain": [
       "<__main__.Alpha at 0x1c0a5c04a30>"
      ]
     },
     "execution_count": 9,
     "metadata": {},
     "output_type": "execute_result"
    }
   ],
   "source": [
    "# calling the function using class\n",
    "Alpha.input_details_data(\"Parag\",27,80986)"
   ]
  },
  {
   "cell_type": "code",
   "execution_count": 10,
   "metadata": {},
   "outputs": [
    {
     "name": "stdout",
     "output_type": "stream",
     "text": [
      "Parag\n",
      "27\n",
      "80986\n"
     ]
    }
   ],
   "source": [
    "x = Alpha.input_details_data(\"Parag\",27,80986)\n",
    "print(x.name)\n",
    "print(x.age)\n",
    "print(x.salary)"
   ]
  },
  {
   "cell_type": "markdown",
   "metadata": {},
   "source": [
    "# Class Variables\n",
    "\n",
    "These are the variables that can be directly accessed by the class."
   ]
  },
  {
   "cell_type": "code",
   "execution_count": 11,
   "metadata": {},
   "outputs": [],
   "source": [
    "class Employee:\n",
    "    # class variable\n",
    "    MobileNumber = 9879654332\n",
    "    \n",
    "    # To initialize the data members of the class\n",
    "    def __init__(self, n,a,s):\n",
    "        self.name = n\n",
    "        self.age  = a\n",
    "        self.salary = s\n",
    "        \n",
    "    # To define the decorator\n",
    "    @classmethod\n",
    "    def input_details(cls,name,age,salary):\n",
    "        return(cls(name,age,salary))\n",
    "    \n",
    "    def print_details(self):\n",
    "        print(self.name)\n",
    "        print(self.age)\n",
    "        print(self.salary)"
   ]
  },
  {
   "cell_type": "code",
   "execution_count": 12,
   "metadata": {},
   "outputs": [
    {
     "data": {
      "text/plain": [
       "9879654332"
      ]
     },
     "execution_count": 12,
     "metadata": {},
     "output_type": "execute_result"
    }
   ],
   "source": [
    "# To access the class Vraiable\n",
    "Employee.MobileNumber"
   ]
  },
  {
   "cell_type": "code",
   "execution_count": 13,
   "metadata": {},
   "outputs": [
    {
     "name": "stdout",
     "output_type": "stream",
     "text": [
      "Parag\n",
      "27\n",
      "986543\n"
     ]
    }
   ],
   "source": [
    "# To access the values of the data members\n",
    "x = Employee.input_details(\"Parag\",27,986543)\n",
    "print(x.name)\n",
    "print(x.age)\n",
    "print(x.salary)"
   ]
  },
  {
   "cell_type": "code",
   "execution_count": 14,
   "metadata": {},
   "outputs": [],
   "source": [
    "# To access the class variable inside the meber function\n",
    "class Person:\n",
    "    # To declare the class variable\n",
    "    MobileNumber = 9865437976\n",
    "    \n",
    "    # To initiaize the data members of the class\n",
    "    def __init__(self,n,a,s):\n",
    "        self.name = n\n",
    "        self.age =  a\n",
    "        self.salary = s\n",
    "        \n",
    "    # To declare the class method\n",
    "    @classmethod\n",
    "    def input_details(cls,name,age,salary):\n",
    "        return(cls(name,age,salary))\n",
    "    \n",
    "    # To declare the member function\n",
    "    def print_details(self):\n",
    "        print(self.name)\n",
    "        print(self.age)\n",
    "        print(self.salary)\n",
    "        print(Person.MobileNumber)"
   ]
  },
  {
   "cell_type": "code",
   "execution_count": 17,
   "metadata": {},
   "outputs": [],
   "source": [
    "# To call the class using the object\n",
    "obj = Person.input_details(\"Parga\",67,97546)"
   ]
  },
  {
   "cell_type": "code",
   "execution_count": 18,
   "metadata": {},
   "outputs": [
    {
     "name": "stdout",
     "output_type": "stream",
     "text": [
      "Parga\n",
      "67\n",
      "97546\n",
      "9865437976\n"
     ]
    }
   ],
   "source": [
    "obj.print_details()"
   ]
  },
  {
   "cell_type": "code",
   "execution_count": 3,
   "metadata": {},
   "outputs": [],
   "source": [
    "# use the class method to change the mobile number\n",
    "class Mob:\n",
    "    # class variable\n",
    "    MobileNumber = 9437403013\n",
    "    \n",
    "    # decorator\n",
    "    @classmethod\n",
    "    def change_mobile_number(cls, mobile):\n",
    "        Mob.MobileNumber = mobile\n",
    "        \n",
    "    # instant_methods\n",
    "    def print_mobilenumber(self):\n",
    "        print(Mob.MobileNumber)"
   ]
  },
  {
   "cell_type": "code",
   "execution_count": 4,
   "metadata": {},
   "outputs": [
    {
     "name": "stdout",
     "output_type": "stream",
     "text": [
      "9437403013\n"
     ]
    }
   ],
   "source": [
    "# access the old mobile number\n",
    "print(Mob.MobileNumber)"
   ]
  },
  {
   "cell_type": "code",
   "execution_count": 5,
   "metadata": {},
   "outputs": [],
   "source": [
    "Mob.change_mobile_number(7978304194)"
   ]
  },
  {
   "cell_type": "code",
   "execution_count": 6,
   "metadata": {},
   "outputs": [
    {
     "name": "stdout",
     "output_type": "stream",
     "text": [
      "7978304194\n"
     ]
    }
   ],
   "source": [
    "# access the new mobilenumber\n",
    "print(Mob.MobileNumber)"
   ]
  },
  {
   "cell_type": "code",
   "execution_count": 7,
   "metadata": {},
   "outputs": [],
   "source": [
    "# Add the external function to the class\n",
    "def person_function_name(cls,name):\n",
    "    print(\"Name is:\", name)"
   ]
  },
  {
   "cell_type": "code",
   "execution_count": 8,
   "metadata": {},
   "outputs": [],
   "source": [
    "Mob.person_function_name = classmethod(person_function_name)"
   ]
  },
  {
   "cell_type": "code",
   "execution_count": 9,
   "metadata": {},
   "outputs": [
    {
     "name": "stdout",
     "output_type": "stream",
     "text": [
      "Name is: Abha\n"
     ]
    }
   ],
   "source": [
    "# passing the value to the function\n",
    "Mob.person_function_name(\"Abha\")"
   ]
  },
  {
   "cell_type": "code",
   "execution_count": 10,
   "metadata": {},
   "outputs": [],
   "source": [
    "# Delete the class method\n",
    "del Mob.change_mobile_number"
   ]
  },
  {
   "cell_type": "code",
   "execution_count": 11,
   "metadata": {},
   "outputs": [
    {
     "ename": "AttributeError",
     "evalue": "type object 'Mob' has no attribute 'change_mobile_number'",
     "output_type": "error",
     "traceback": [
      "\u001b[1;31m---------------------------------------------------------------------------\u001b[0m",
      "\u001b[1;31mAttributeError\u001b[0m                            Traceback (most recent call last)",
      "\u001b[1;32m<ipython-input-11-69458a1fbfd9>\u001b[0m in \u001b[0;36m<module>\u001b[1;34m\u001b[0m\n\u001b[1;32m----> 1\u001b[1;33m \u001b[0mMob\u001b[0m\u001b[1;33m.\u001b[0m\u001b[0mchange_mobile_number\u001b[0m\u001b[1;33m\u001b[0m\u001b[1;33m\u001b[0m\u001b[0m\n\u001b[0m",
      "\u001b[1;31mAttributeError\u001b[0m: type object 'Mob' has no attribute 'change_mobile_number'"
     ]
    }
   ],
   "source": [
    "Mob.change_mobile_number"
   ]
  },
  {
   "cell_type": "code",
   "execution_count": null,
   "metadata": {},
   "outputs": [],
   "source": []
  }
 ],
 "metadata": {
  "kernelspec": {
   "display_name": "Python 3",
   "language": "python",
   "name": "python3"
  },
  "language_info": {
   "codemirror_mode": {
    "name": "ipython",
    "version": 3
   },
   "file_extension": ".py",
   "mimetype": "text/x-python",
   "name": "python",
   "nbconvert_exporter": "python",
   "pygments_lexer": "ipython3",
   "version": "3.8.3"
  }
 },
 "nbformat": 4,
 "nbformat_minor": 4
}
