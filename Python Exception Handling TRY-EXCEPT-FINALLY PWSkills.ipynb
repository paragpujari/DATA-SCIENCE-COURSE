{
 "cells": [
  {
   "cell_type": "markdown",
   "id": "6d56f4a8-b2f8-40af-9f85-0fb0e53ac8f2",
   "metadata": {},
   "source": [
    "# Exception\n",
    "\n",
    "It can be defined as any unwanted situation that occurs during the execution of the program."
   ]
  },
  {
   "cell_type": "markdown",
   "id": "1c583994-d460-4f8d-b904-8f1bb6ac9563",
   "metadata": {},
   "source": [
    "# Types of Exception\n",
    "\n",
    "1. Division By Zero = when the number gerts divided by zero."
   ]
  },
  {
   "cell_type": "code",
   "execution_count": 1,
   "id": "de077ac9-98f0-4e4d-a2fc-619ecd0b018a",
   "metadata": {},
   "outputs": [
    {
     "ename": "ZeroDivisionError",
     "evalue": "division by zero",
     "output_type": "error",
     "traceback": [
      "\u001b[0;31m---------------------------------------------------------------------------\u001b[0m",
      "\u001b[0;31mZeroDivisionError\u001b[0m                         Traceback (most recent call last)",
      "Cell \u001b[0;32mIn[1], line 1\u001b[0m\n\u001b[0;32m----> 1\u001b[0m \u001b[38;5;28mprint\u001b[39m(\u001b[38;5;241;43m9\u001b[39;49m\u001b[38;5;241;43m/\u001b[39;49m\u001b[38;5;241;43m0\u001b[39;49m)\n",
      "\u001b[0;31mZeroDivisionError\u001b[0m: division by zero"
     ]
    }
   ],
   "source": [
    "print(9/0)"
   ]
  },
  {
   "cell_type": "markdown",
   "id": "c04be01a-2434-49aa-8af9-cb0e79611882",
   "metadata": {},
   "source": [
    "# \n",
    "2. List Index Out of Bound Exception = When we find an element not present in the list"
   ]
  },
  {
   "cell_type": "code",
   "execution_count": 3,
   "id": "cedf663e-9157-4b8b-80bb-bc0328001e91",
   "metadata": {},
   "outputs": [
    {
     "ename": "IndexError",
     "evalue": "list index out of range",
     "output_type": "error",
     "traceback": [
      "\u001b[0;31m---------------------------------------------------------------------------\u001b[0m",
      "\u001b[0;31mIndexError\u001b[0m                                Traceback (most recent call last)",
      "Cell \u001b[0;32mIn[3], line 2\u001b[0m\n\u001b[1;32m      1\u001b[0m \u001b[38;5;28mlist\u001b[39m \u001b[38;5;241m=\u001b[39m [\u001b[38;5;241m10\u001b[39m,\u001b[38;5;241m20\u001b[39m,\u001b[38;5;241m30\u001b[39m,\u001b[38;5;241m40\u001b[39m,\u001b[38;5;241m50\u001b[39m]\n\u001b[0;32m----> 2\u001b[0m \u001b[38;5;28mprint\u001b[39m(\u001b[38;5;28;43mlist\u001b[39;49m\u001b[43m[\u001b[49m\u001b[38;5;241;43m120\u001b[39;49m\u001b[43m]\u001b[49m)\n",
      "\u001b[0;31mIndexError\u001b[0m: list index out of range"
     ]
    }
   ],
   "source": [
    "list = [10,20,30,40,50]\n",
    "print(list[120])"
   ]
  },
  {
   "cell_type": "code",
   "execution_count": 4,
   "id": "88600cb4-57de-4ac2-8371-b14c2397d5ad",
   "metadata": {},
   "outputs": [
    {
     "name": "stdout",
     "output_type": "stream",
     "text": [
      "['ArithmeticError', 'AssertionError', 'AttributeError', 'BaseException', 'BlockingIOError', 'BrokenPipeError', 'BufferError', 'BytesWarning', 'ChildProcessError', 'ConnectionAbortedError', 'ConnectionError', 'ConnectionRefusedError', 'ConnectionResetError', 'DeprecationWarning', 'EOFError', 'Ellipsis', 'EncodingWarning', 'EnvironmentError', 'Exception', 'False', 'FileExistsError', 'FileNotFoundError', 'FloatingPointError', 'FutureWarning', 'GeneratorExit', 'IOError', 'ImportError', 'ImportWarning', 'IndentationError', 'IndexError', 'InterruptedError', 'IsADirectoryError', 'KeyError', 'KeyboardInterrupt', 'LookupError', 'MemoryError', 'ModuleNotFoundError', 'NameError', 'None', 'NotADirectoryError', 'NotImplemented', 'NotImplementedError', 'OSError', 'OverflowError', 'PendingDeprecationWarning', 'PermissionError', 'ProcessLookupError', 'RecursionError', 'ReferenceError', 'ResourceWarning', 'RuntimeError', 'RuntimeWarning', 'StopAsyncIteration', 'StopIteration', 'SyntaxError', 'SyntaxWarning', 'SystemError', 'SystemExit', 'TabError', 'TimeoutError', 'True', 'TypeError', 'UnboundLocalError', 'UnicodeDecodeError', 'UnicodeEncodeError', 'UnicodeError', 'UnicodeTranslateError', 'UnicodeWarning', 'UserWarning', 'ValueError', 'Warning', 'ZeroDivisionError', '__IPYTHON__', '__build_class__', '__debug__', '__doc__', '__import__', '__loader__', '__name__', '__package__', '__spec__', 'abs', 'aiter', 'all', 'anext', 'any', 'ascii', 'bin', 'bool', 'breakpoint', 'bytearray', 'bytes', 'callable', 'chr', 'classmethod', 'compile', 'complex', 'copyright', 'credits', 'delattr', 'dict', 'dir', 'display', 'divmod', 'enumerate', 'eval', 'exec', 'execfile', 'filter', 'float', 'format', 'frozenset', 'get_ipython', 'getattr', 'globals', 'hasattr', 'hash', 'help', 'hex', 'id', 'input', 'int', 'isinstance', 'issubclass', 'iter', 'len', 'license', 'list', 'locals', 'map', 'max', 'memoryview', 'min', 'next', 'object', 'oct', 'open', 'ord', 'pow', 'print', 'property', 'range', 'repr', 'reversed', 'round', 'runfile', 'set', 'setattr', 'slice', 'sorted', 'staticmethod', 'str', 'sum', 'super', 'tuple', 'type', 'vars', 'zip']\n"
     ]
    }
   ],
   "source": [
    "# list of all the exceptions\n",
    "print(dir(__builtins__))"
   ]
  },
  {
   "cell_type": "markdown",
   "id": "0a015f31-d840-4b82-a374-d5c617ddbf40",
   "metadata": {},
   "source": [
    "# TRY-EXCEPT EXCEPTION"
   ]
  },
  {
   "cell_type": "code",
   "execution_count": 7,
   "id": "90582434-d43a-438f-80ff-3d40b52a467e",
   "metadata": {},
   "outputs": [
    {
     "name": "stdin",
     "output_type": "stream",
     "text": [
      "Enter the first number: 10\n",
      "Enter the second number: 10\n"
     ]
    }
   ],
   "source": [
    "# Division by Zero Exception\n",
    "a = int(input(\"Enter the first number:\"))\n",
    "b = int(input(\"Enter the second number:\"))\n",
    "\n",
    "res = a - b\n",
    "\n"
   ]
  },
  {
   "cell_type": "code",
   "execution_count": 8,
   "id": "58dee774-9576-4537-8432-981143a675d0",
   "metadata": {},
   "outputs": [
    {
     "name": "stdout",
     "output_type": "stream",
     "text": [
      "0\n",
      "Division by zero exception has occurred:\n"
     ]
    }
   ],
   "source": [
    "# using of try-except block\n",
    "\n",
    "# try = detects the error\n",
    "\n",
    "# catch = handles the error\n",
    "\n",
    "try:\n",
    "    print(res)\n",
    "    div = a / res\n",
    "    \n",
    "except:\n",
    "    print(\"Division by zero exception has occurred:\")"
   ]
  },
  {
   "cell_type": "markdown",
   "id": "2c721eb4-54d5-48e3-a0c5-cc836bb06c90",
   "metadata": {},
   "source": [
    "# TRY-EXCEPT-FINALLY EXCEPTION"
   ]
  },
  {
   "cell_type": "code",
   "execution_count": 10,
   "id": "ec0b7897-a337-4c14-b0c7-1b62f51006ea",
   "metadata": {},
   "outputs": [
    {
     "name": "stdin",
     "output_type": "stream",
     "text": [
      "Enter the first number: 12\n",
      "Enter the second number: 10\n"
     ]
    },
    {
     "name": "stdout",
     "output_type": "stream",
     "text": [
      "No exception has occurred in the code:\n",
      "All the exceptions has been completed:\n"
     ]
    }
   ],
   "source": [
    "x = int(input(\"Enter the first number:\"))\n",
    "y = int(input(\"Enter the second number:\"))\n",
    "\n",
    "try:\n",
    "    res = x - y\n",
    "    div = x / res\n",
    "    \n",
    "except:\n",
    "    print(\"Division By Zero Exception has occurred:\")\n",
    "else:\n",
    "    print(\"No exception has occurred in the code:\")\n",
    "    \n",
    "finally:\n",
    "    print(\"All the exceptions has been completed:\")"
   ]
  },
  {
   "cell_type": "markdown",
   "id": "8c6f3f15-24c5-4cbd-b7cc-1f32bba01f8e",
   "metadata": {},
   "source": [
    "# TRY WITH MULTIPLE EXCEPTIONS"
   ]
  },
  {
   "cell_type": "code",
   "execution_count": 11,
   "id": "61bc70c2-ff5b-4a7e-b5ac-08782c99cda4",
   "metadata": {},
   "outputs": [
    {
     "name": "stdin",
     "output_type": "stream",
     "text": [
      "Enter the first number: 10\n",
      "Enter the second number: 10\n"
     ]
    },
    {
     "name": "stdout",
     "output_type": "stream",
     "text": [
      "Division By Zero Exception has occurred:\n",
      "All the exceptions has been over:\n"
     ]
    }
   ],
   "source": [
    "j = int(input(\"Enter the first number:\"))\n",
    "k = int(input(\"Enter the second number:\"))\n",
    "\n",
    "try:\n",
    "    res = j - k\n",
    "    div = j / res\n",
    "except(ZeroDivisionError):\n",
    "    print(\"Division By Zero Exception has occurred:\")\n",
    "except(ValueError):\n",
    "    print(\"Value error has occurred:\")\n",
    "except:\n",
    "    print(\"Some other exception error has been occurred:\")\n",
    "finally:\n",
    "    print(\"All the exceptions has been over:\")"
   ]
  },
  {
   "cell_type": "code",
   "execution_count": null,
   "id": "47369bff-2c1d-476d-89a4-fecf8a28585d",
   "metadata": {},
   "outputs": [],
   "source": []
  }
 ],
 "metadata": {
  "kernelspec": {
   "display_name": "Python 3 (ipykernel)",
   "language": "python",
   "name": "python3"
  },
  "language_info": {
   "codemirror_mode": {
    "name": "ipython",
    "version": 3
   },
   "file_extension": ".py",
   "mimetype": "text/x-python",
   "name": "python",
   "nbconvert_exporter": "python",
   "pygments_lexer": "ipython3",
   "version": "3.10.8"
  }
 },
 "nbformat": 4,
 "nbformat_minor": 5
}
