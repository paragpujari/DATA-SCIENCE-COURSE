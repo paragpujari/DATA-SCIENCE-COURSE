{
 "cells": [
  {
   "cell_type": "markdown",
   "id": "18942fc2-2d3d-4cb1-910d-825f7e8e9324",
   "metadata": {},
   "source": [
    "# Introduction to Python"
   ]
  },
  {
   "cell_type": "code",
   "execution_count": 1,
   "id": "adcaf047-5fa7-4c49-9246-daa32ef99410",
   "metadata": {},
   "outputs": [],
   "source": [
    "a = 10"
   ]
  },
  {
   "cell_type": "code",
   "execution_count": 2,
   "id": "747a624f-84cd-432b-9274-62e6016c7bca",
   "metadata": {},
   "outputs": [
    {
     "name": "stdout",
     "output_type": "stream",
     "text": [
      "10\n"
     ]
    }
   ],
   "source": [
    "print(a)"
   ]
  },
  {
   "cell_type": "markdown",
   "id": "8d9eeee2-14fc-4a03-add4-08a494a81d41",
   "metadata": {},
   "source": [
    "# This is an introduction session of Python\n",
    "\n",
    "## Examples\n",
    "\n",
    "### Welcome to PW Skills\n",
    "\n",
    "#### This is a test example"
   ]
  },
  {
   "cell_type": "code",
   "execution_count": 7,
   "id": "555a7ed0-8e13-4415-918b-d6efb3be8c20",
   "metadata": {},
   "outputs": [
    {
     "name": "stdout",
     "output_type": "stream",
     "text": [
      "2\n"
     ]
    }
   ],
   "source": [
    "print(1+1)"
   ]
  },
  {
   "cell_type": "markdown",
   "id": "9b6d5afb-b1b5-4377-9b4f-0890ffdb983b",
   "metadata": {},
   "source": [
    "# Comments\n"
   ]
  },
  {
   "cell_type": "code",
   "execution_count": 9,
   "id": "516f9a4b-61b3-4db9-bf4e-69d417666f8f",
   "metadata": {},
   "outputs": [],
   "source": [
    "# 1. Single Line Comment\n",
    "\n",
    "# a = 10"
   ]
  },
  {
   "cell_type": "code",
   "execution_count": 11,
   "id": "5a04ff12-1b29-4849-b339-12eaf623f1b8",
   "metadata": {},
   "outputs": [
    {
     "name": "stdout",
     "output_type": "stream",
     "text": [
      "\n",
      "Hi , My name is Parag Pujari.\n",
      "I work in Motherson Sumi.\n",
      "\n"
     ]
    }
   ],
   "source": [
    "# 2. Multi Line Coment\n",
    "\n",
    "print(\n",
    "\"\"\"\n",
    "Hi , My name is Parag Pujari.\n",
    "I work in Motherson Sumi.\n",
    "\"\"\")"
   ]
  },
  {
   "cell_type": "markdown",
   "id": "7d1a15c5-4a83-4a3d-9b09-72a75a853909",
   "metadata": {},
   "source": [
    "# Numbers"
   ]
  },
  {
   "cell_type": "code",
   "execution_count": 12,
   "id": "5ae0af6a-aa2f-4ce8-9a13-ffcdfc6f5b3b",
   "metadata": {},
   "outputs": [
    {
     "data": {
      "text/plain": [
       "4"
      ]
     },
     "execution_count": 12,
     "metadata": {},
     "output_type": "execute_result"
    }
   ],
   "source": [
    "1 + 3"
   ]
  },
  {
   "cell_type": "code",
   "execution_count": 13,
   "id": "76716f08-0282-481d-bf2b-b41e3f3d3d64",
   "metadata": {},
   "outputs": [
    {
     "name": "stdout",
     "output_type": "stream",
     "text": [
      "4\n"
     ]
    }
   ],
   "source": [
    "print(1 + 3)"
   ]
  },
  {
   "cell_type": "code",
   "execution_count": 14,
   "id": "9807d0f9-a00e-4236-b737-7cc3f01570f9",
   "metadata": {},
   "outputs": [
    {
     "name": "stdout",
     "output_type": "stream",
     "text": [
      "Hello World\n"
     ]
    }
   ],
   "source": [
    "print(\"Hello World\")"
   ]
  },
  {
   "cell_type": "code",
   "execution_count": 15,
   "id": "a951daec-338a-4eab-bc8a-3ebc0dcac7cb",
   "metadata": {},
   "outputs": [
    {
     "name": "stdout",
     "output_type": "stream",
     "text": [
      "10\n",
      "89.87\n",
      "(1+2j)\n",
      "True\n"
     ]
    }
   ],
   "source": [
    "a = 10\n",
    "b = 89.87\n",
    "c = 1 + 2j\n",
    "d = True\n",
    "\n",
    "print(a)\n",
    "print(b)\n",
    "print(c)\n",
    "print(d)"
   ]
  },
  {
   "cell_type": "markdown",
   "id": "d27c1adc-a29d-4b39-b1e9-e51521804081",
   "metadata": {},
   "source": [
    "# Data Types"
   ]
  },
  {
   "cell_type": "code",
   "execution_count": 16,
   "id": "245c8338-83cb-492f-ad52-295dadfb8ec3",
   "metadata": {},
   "outputs": [
    {
     "name": "stdout",
     "output_type": "stream",
     "text": [
      "<class 'int'>\n",
      "<class 'float'>\n",
      "<class 'complex'>\n",
      "<class 'bool'>\n"
     ]
    }
   ],
   "source": [
    "# To print the data types of the variables\n",
    "\n",
    "print(type(a))\n",
    "print(type(b))\n",
    "print(type(c))\n",
    "print(type(d))"
   ]
  },
  {
   "cell_type": "markdown",
   "id": "cee86d84-5b22-441f-974c-ddea67bd7b73",
   "metadata": {},
   "source": [
    "# Variable Assignment"
   ]
  },
  {
   "cell_type": "code",
   "execution_count": 17,
   "id": "05618889-cf2d-4d24-91d4-4645436f298f",
   "metadata": {},
   "outputs": [
    {
     "name": "stdout",
     "output_type": "stream",
     "text": [
      "Parag\n",
      "Motherson\n"
     ]
    }
   ],
   "source": [
    "name = \"Parag\"\n",
    "company = \"Motherson\"\n",
    "\n",
    "print(name)\n",
    "print(company)"
   ]
  },
  {
   "cell_type": "code",
   "execution_count": 19,
   "id": "8c56b3f0-5c25-49eb-ab7f-8fc7c13a3a19",
   "metadata": {},
   "outputs": [
    {
     "name": "stdout",
     "output_type": "stream",
     "text": [
      "wipro\n",
      "wipro\n",
      "<class 'str'>\n",
      "<class 'str'>\n"
     ]
    }
   ],
   "source": [
    "company = 'wipro'\n",
    "Company = \"wipro\"\n",
    "\n",
    "print(company)\n",
    "print(Company)\n",
    "\n",
    "print(type(company))\n",
    "print(type(company))"
   ]
  },
  {
   "cell_type": "code",
   "execution_count": 20,
   "id": "ca761cd8-8c5e-4a70-ad3c-775e593bff87",
   "metadata": {},
   "outputs": [],
   "source": [
    "# A variable should not begin with a number or digit.\n",
    "# It should always begin with alphabet or underscore."
   ]
  },
  {
   "cell_type": "code",
   "execution_count": 21,
   "id": "2b827f22-4159-486f-8cb2-752cdaa72f5f",
   "metadata": {},
   "outputs": [
    {
     "name": "stdout",
     "output_type": "stream",
     "text": [
      "wipro\n",
      "Motherson\n"
     ]
    }
   ],
   "source": [
    "# Variables are case sensitive\n",
    "\n",
    "company = 'wipro'\n",
    "Company = \"Motherson\"\n",
    "\n",
    "print(company)\n",
    "print(Company)"
   ]
  },
  {
   "cell_type": "code",
   "execution_count": 22,
   "id": "44fa2e9b-0186-4262-bfd2-9e68917abf41",
   "metadata": {},
   "outputs": [
    {
     "name": "stdout",
     "output_type": "stream",
     "text": [
      "False\n",
      "True\n",
      "True\n",
      "True\n",
      "False\n"
     ]
    }
   ],
   "source": [
    "a = True\n",
    "b = False\n",
    "\n",
    "print(a and b)\n",
    "print(a or b)\n",
    "print(not a or not b)\n",
    "print(a or not b)\n",
    "print(not a and b)"
   ]
  },
  {
   "cell_type": "code",
   "execution_count": 23,
   "id": "653ce2b1-b5f4-47d3-a969-c30c2d15825b",
   "metadata": {},
   "outputs": [
    {
     "name": "stdout",
     "output_type": "stream",
     "text": [
      "<class 'bool'>\n",
      "<class 'bool'>\n",
      "<class 'bool'>\n",
      "<class 'bool'>\n",
      "<class 'bool'>\n"
     ]
    }
   ],
   "source": [
    "print(type(a and b))\n",
    "print(type(a or b))\n",
    "print(type(not a or not b))\n",
    "print(type(a or not b))\n",
    "print(type(not a and b))"
   ]
  },
  {
   "cell_type": "markdown",
   "id": "0b42b5a0-d359-4e9b-b97b-a09ae5ed0fb0",
   "metadata": {},
   "source": [
    "# Type Conversion"
   ]
  },
  {
   "cell_type": "code",
   "execution_count": 24,
   "id": "39853343-1371-4b65-b741-ed86fd9e05bb",
   "metadata": {},
   "outputs": [
    {
     "data": {
      "text/plain": [
       "32"
      ]
     },
     "execution_count": 24,
     "metadata": {},
     "output_type": "execute_result"
    }
   ],
   "source": [
    "int('32')"
   ]
  },
  {
   "cell_type": "code",
   "execution_count": 25,
   "id": "3684b293-a6b4-4f74-a3e4-14a45d86a082",
   "metadata": {},
   "outputs": [
    {
     "data": {
      "text/plain": [
       "90.0"
      ]
     },
     "execution_count": 25,
     "metadata": {},
     "output_type": "execute_result"
    }
   ],
   "source": [
    "float(90)"
   ]
  },
  {
   "cell_type": "code",
   "execution_count": 26,
   "id": "e3dc8dde-be3e-4ab4-8601-c0f986d58c8d",
   "metadata": {},
   "outputs": [
    {
     "data": {
      "text/plain": [
       "'12'"
      ]
     },
     "execution_count": 26,
     "metadata": {},
     "output_type": "execute_result"
    }
   ],
   "source": [
    "str(12)"
   ]
  },
  {
   "cell_type": "code",
   "execution_count": 27,
   "id": "c4dbdb71-4d03-4715-97ba-c3143d476e8b",
   "metadata": {},
   "outputs": [
    {
     "data": {
      "text/plain": [
       "True"
      ]
     },
     "execution_count": 27,
     "metadata": {},
     "output_type": "execute_result"
    }
   ],
   "source": [
    "bool(1)"
   ]
  },
  {
   "cell_type": "markdown",
   "id": "dac96411-a7f9-4427-8fc7-cab0d15729a1",
   "metadata": {},
   "source": [
    "# Dynamic Typing"
   ]
  },
  {
   "cell_type": "code",
   "execution_count": 28,
   "id": "b63c3909-d714-4d1f-8f70-9c31d2d2cdc3",
   "metadata": {},
   "outputs": [
    {
     "name": "stdout",
     "output_type": "stream",
     "text": [
      "<class 'int'>\n"
     ]
    }
   ],
   "source": [
    "a = 12\n",
    "print(type(a))"
   ]
  },
  {
   "cell_type": "markdown",
   "id": "a5dcbdd3-9153-4e26-a08e-af1b4ebfc88c",
   "metadata": {},
   "source": [
    "# Concatenation between different types"
   ]
  },
  {
   "cell_type": "code",
   "execution_count": 29,
   "id": "50da85fa-1787-497e-b9a3-debff487b189",
   "metadata": {},
   "outputs": [
    {
     "data": {
      "text/plain": [
       "2"
      ]
     },
     "execution_count": 29,
     "metadata": {},
     "output_type": "execute_result"
    }
   ],
   "source": [
    "1 + 1"
   ]
  },
  {
   "cell_type": "code",
   "execution_count": 30,
   "id": "7cacdf89-d57f-4ab0-91f8-162ec79d9b18",
   "metadata": {},
   "outputs": [
    {
     "data": {
      "text/plain": [
       "'11'"
      ]
     },
     "execution_count": 30,
     "metadata": {},
     "output_type": "execute_result"
    }
   ],
   "source": [
    "'1' + '1'"
   ]
  },
  {
   "cell_type": "code",
   "execution_count": 31,
   "id": "aed510df-656f-4f36-b242-a37cfc53bdfb",
   "metadata": {},
   "outputs": [
    {
     "data": {
      "text/plain": [
       "2"
      ]
     },
     "execution_count": 31,
     "metadata": {},
     "output_type": "execute_result"
    }
   ],
   "source": [
    "int(1) + int(1)"
   ]
  },
  {
   "cell_type": "code",
   "execution_count": 32,
   "id": "b55189a4-a850-4b16-96c1-e349b3ed6323",
   "metadata": {},
   "outputs": [
    {
     "data": {
      "text/plain": [
       "'ParagPujari95@gmail.com'"
      ]
     },
     "execution_count": 32,
     "metadata": {},
     "output_type": "execute_result"
    }
   ],
   "source": [
    "\"Parag\" + \"Pujari\" + str(95) + \"@gmail.com\""
   ]
  },
  {
   "cell_type": "code",
   "execution_count": 33,
   "id": "0735c0b6-f3c3-494a-a80a-7ff718964d39",
   "metadata": {},
   "outputs": [
    {
     "data": {
      "text/plain": [
       "100"
      ]
     },
     "execution_count": 33,
     "metadata": {},
     "output_type": "execute_result"
    }
   ],
   "source": [
    "1 * 100"
   ]
  },
  {
   "cell_type": "code",
   "execution_count": 35,
   "id": "7ee3f064-16fa-4f1f-826b-1220134066f6",
   "metadata": {},
   "outputs": [
    {
     "data": {
      "text/plain": [
       "'paragparagparagparagparag'"
      ]
     },
     "execution_count": 35,
     "metadata": {},
     "output_type": "execute_result"
    }
   ],
   "source": [
    "'parag' * 5"
   ]
  },
  {
   "cell_type": "code",
   "execution_count": null,
   "id": "16a2ddcc-1e0a-4637-bbca-1095dc4f97e6",
   "metadata": {},
   "outputs": [],
   "source": []
  }
 ],
 "metadata": {
  "kernelspec": {
   "display_name": "Python 3 (ipykernel)",
   "language": "python",
   "name": "python3"
  },
  "language_info": {
   "codemirror_mode": {
    "name": "ipython",
    "version": 3
   },
   "file_extension": ".py",
   "mimetype": "text/x-python",
   "name": "python",
   "nbconvert_exporter": "python",
   "pygments_lexer": "ipython3",
   "version": "3.10.8"
  }
 },
 "nbformat": 4,
 "nbformat_minor": 5
}
