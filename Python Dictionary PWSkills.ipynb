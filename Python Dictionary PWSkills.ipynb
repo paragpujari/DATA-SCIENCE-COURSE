{
 "cells": [
  {
   "cell_type": "markdown",
   "metadata": {},
   "source": [
    "# Dictionary\n",
    "\n",
    "It is the list of elements enclosed within curly brackets with key and value pairs"
   ]
  },
  {
   "cell_type": "code",
   "execution_count": 5,
   "metadata": {},
   "outputs": [
    {
     "name": "stdout",
     "output_type": "stream",
     "text": [
      "{}\n",
      "<class 'dict'>\n",
      "{1: 'abc', 2: 'def', 3: 'ghi'}\n",
      "<class 'dict'>\n",
      "guntur\n",
      "andhra pradesh\n",
      "27\n",
      "satish\n",
      "male\n"
     ]
    }
   ],
   "source": [
    "# Creation of Dictionary\n",
    "\n",
    "# empty dictionary\n",
    "dict = {}\n",
    "print(dict)\n",
    "print(type(dict))\n",
    "\n",
    "# dictionary with elements\n",
    "dict1 = {1:'abc', 2:'def', 3:'ghi'}\n",
    "print(dict1)\n",
    "print(type(dict1))\n",
    "\n",
    "\n",
    "# accessing the elements from the dictionary\n",
    "my_dict = {'name': 'satish', 'age':27, 'address':'guntur', 'sex' :'male', 'state' :'andhra pradesh'}\n",
    "print(my_dict['address'])\n",
    "print(my_dict['state'])\n",
    "print(my_dict['age'])\n",
    "print(my_dict['name'])\n",
    "print(my_dict['sex'])"
   ]
  },
  {
   "cell_type": "code",
   "execution_count": 10,
   "metadata": {},
   "outputs": [
    {
     "name": "stdout",
     "output_type": "stream",
     "text": [
      "{'name': 'satish', 'age': 27, 'address': 'guntur', 'sex': 'male', 'state': 'andhra pradesh'}\n",
      "satish\n",
      "27\n",
      "guntur\n",
      "male\n",
      "andhra pradesh\n"
     ]
    }
   ],
   "source": [
    "# obtain the values using the keys\n",
    "print(my_dict)\n",
    "print(my_dict.get('name'))\n",
    "print(my_dict.get('age'))\n",
    "print(my_dict.get('address'))\n",
    "print(my_dict.get('sex'))\n",
    "print(my_dict.get('state'))"
   ]
  },
  {
   "cell_type": "code",
   "execution_count": 19,
   "metadata": {},
   "outputs": [
    {
     "name": "stdout",
     "output_type": "stream",
     "text": [
      "{'name': 'Ashish', 'age': 27, 'address': 'guntur', 'sex': 'male', 'country': 'India', 'state': 'Odisha'}\n",
      "{'name': 'Ashish', 'age': 27, 'address': 'guntur', 'sex': 'male', 'country': 'India', 'state': 'Odisha'}\n"
     ]
    }
   ],
   "source": [
    "# Add the elements into the dictionary\n",
    "my_dict['state'] = 'Odisha'\n",
    "\n",
    "\n",
    "print(my_dict)\n",
    "\n",
    "\n",
    "\n",
    "# Modify the elements into the dictionary\n",
    "my_dict['name'] = 'Ashish'\n",
    "print(my_dict)"
   ]
  },
  {
   "cell_type": "code",
   "execution_count": 20,
   "metadata": {},
   "outputs": [
    {
     "name": "stdout",
     "output_type": "stream",
     "text": [
      "Odisha\n"
     ]
    }
   ],
   "source": [
    "# Delete the elements from the dictionary\n",
    "a = my_dict.pop('state') # pop() = It removes the element which is specified in the arguement\n",
    "print(a)\n",
    "\n"
   ]
  },
  {
   "cell_type": "code",
   "execution_count": 21,
   "metadata": {},
   "outputs": [
    {
     "name": "stdout",
     "output_type": "stream",
     "text": [
      "{'name': 'Ashish', 'age': 27, 'address': 'guntur', 'sex': 'male', 'country': 'India'}\n"
     ]
    }
   ],
   "source": [
    "print(my_dict)"
   ]
  },
  {
   "cell_type": "code",
   "execution_count": 22,
   "metadata": {},
   "outputs": [
    {
     "name": "stdout",
     "output_type": "stream",
     "text": [
      "('country', 'India')\n"
     ]
    }
   ],
   "source": [
    "dic = my_dict.popitem() # removes the element which is last inserted into the dictionary\n",
    "print(dic)"
   ]
  },
  {
   "cell_type": "code",
   "execution_count": 23,
   "metadata": {},
   "outputs": [
    {
     "name": "stdout",
     "output_type": "stream",
     "text": [
      "{'name': 'Ashish', 'age': 27, 'address': 'guntur', 'sex': 'male'}\n"
     ]
    }
   ],
   "source": [
    "print(my_dict)"
   ]
  },
  {
   "cell_type": "code",
   "execution_count": 24,
   "metadata": {},
   "outputs": [],
   "source": [
    "# clear() = removes all the elemnt from the dictionary\n",
    "my_dict.clear()"
   ]
  },
  {
   "cell_type": "code",
   "execution_count": 25,
   "metadata": {},
   "outputs": [
    {
     "name": "stdout",
     "output_type": "stream",
     "text": [
      "{}\n"
     ]
    }
   ],
   "source": [
    "print(my_dict)"
   ]
  },
  {
   "cell_type": "code",
   "execution_count": 26,
   "metadata": {},
   "outputs": [],
   "source": [
    "squares = {1:1, 2:4, 3:9, 4:16, 5:25}\n",
    "del squares"
   ]
  },
  {
   "cell_type": "code",
   "execution_count": 27,
   "metadata": {},
   "outputs": [
    {
     "ename": "NameError",
     "evalue": "name 'squares' is not defined",
     "output_type": "error",
     "traceback": [
      "\u001b[1;31m---------------------------------------------------------------------------\u001b[0m",
      "\u001b[1;31mNameError\u001b[0m                                 Traceback (most recent call last)",
      "\u001b[1;32m<ipython-input-27-00129ae3ba48>\u001b[0m in \u001b[0;36m<module>\u001b[1;34m\u001b[0m\n\u001b[1;32m----> 1\u001b[1;33m \u001b[0mprint\u001b[0m\u001b[1;33m(\u001b[0m\u001b[0msquares\u001b[0m\u001b[1;33m)\u001b[0m\u001b[1;33m\u001b[0m\u001b[1;33m\u001b[0m\u001b[0m\n\u001b[0m",
      "\u001b[1;31mNameError\u001b[0m: name 'squares' is not defined"
     ]
    }
   ],
   "source": [
    "print(squares)"
   ]
  },
  {
   "cell_type": "markdown",
   "metadata": {},
   "source": [
    "# Dictionary Methods"
   ]
  },
  {
   "cell_type": "code",
   "execution_count": 28,
   "metadata": {},
   "outputs": [
    {
     "name": "stdout",
     "output_type": "stream",
     "text": [
      "{2: 4, 3: 9, 4: 16, 5: 25, 6: 36, 7: 49, 8: 64, 9: 81}\n"
     ]
    }
   ],
   "source": [
    "# copy() = It copies the elements from one dictionary into another \n",
    "\n",
    "squares = {2:4, 3:9, 4:16, 5:25, 6:36, 7:49, 8:64, 9:81}\n",
    "\n",
    "squaresdata = squares.copy()\n",
    "\n",
    "print(squaresdata)"
   ]
  },
  {
   "cell_type": "code",
   "execution_count": 29,
   "metadata": {},
   "outputs": [
    {
     "name": "stdout",
     "output_type": "stream",
     "text": [
      "dict_keys([2, 3, 4, 5, 6, 7, 8, 9])\n"
     ]
    }
   ],
   "source": [
    "# keys() = It obtains all the keys from the dictionary\n",
    "print(squaresdata.keys())"
   ]
  },
  {
   "cell_type": "code",
   "execution_count": 30,
   "metadata": {},
   "outputs": [
    {
     "name": "stdout",
     "output_type": "stream",
     "text": [
      "dict_items([(2, 4), (3, 9), (4, 16), (5, 25), (6, 36), (7, 49), (8, 64), (9, 81)])\n"
     ]
    }
   ],
   "source": [
    "# items() = It obtains all the items from the dictionary\n",
    "print(squaresdata.items())"
   ]
  },
  {
   "cell_type": "code",
   "execution_count": 31,
   "metadata": {},
   "outputs": [
    {
     "name": "stdout",
     "output_type": "stream",
     "text": [
      "dict_values([4, 9, 16, 25, 36, 49, 64, 81])\n"
     ]
    }
   ],
   "source": [
    "# values() = It obtains all the values from the dictionary\n",
    "print(squaresdata.values())"
   ]
  },
  {
   "cell_type": "code",
   "execution_count": 32,
   "metadata": {},
   "outputs": [
    {
     "name": "stdout",
     "output_type": "stream",
     "text": [
      "['__class__', '__contains__', '__delattr__', '__delitem__', '__dir__', '__doc__', '__eq__', '__format__', '__ge__', '__getattribute__', '__getitem__', '__gt__', '__hash__', '__init__', '__init_subclass__', '__iter__', '__le__', '__len__', '__lt__', '__ne__', '__new__', '__reduce__', '__reduce_ex__', '__repr__', '__reversed__', '__setattr__', '__setitem__', '__sizeof__', '__str__', '__subclasshook__', 'clear', 'copy', 'fromkeys', 'get', 'items', 'keys', 'pop', 'popitem', 'setdefault', 'update', 'values']\n"
     ]
    }
   ],
   "source": [
    "d = {}\n",
    "print(dir(d))"
   ]
  },
  {
   "cell_type": "code",
   "execution_count": 33,
   "metadata": {},
   "outputs": [
    {
     "name": "stdout",
     "output_type": "stream",
     "text": [
      "{1: 'a', 2: 'b', 3: 'c', 4: 'd', 5: 'e'}\n"
     ]
    }
   ],
   "source": [
    "# Dictionary comprehension\n",
    "dict = {1:'a', 2:'b', 3:'c', 4:'d', 5:'e'}\n",
    "\n",
    "answer = {k:v  for (k,v) in dict.items()  if(k,v) != 0}\n",
    "print(answer)"
   ]
  },
  {
   "cell_type": "code",
   "execution_count": null,
   "metadata": {},
   "outputs": [],
   "source": []
  },
  {
   "cell_type": "code",
   "execution_count": null,
   "metadata": {},
   "outputs": [],
   "source": []
  }
 ],
 "metadata": {
  "kernelspec": {
   "display_name": "Python 3",
   "language": "python",
   "name": "python3"
  },
  "language_info": {
   "codemirror_mode": {
    "name": "ipython",
    "version": 3
   },
   "file_extension": ".py",
   "mimetype": "text/x-python",
   "name": "python",
   "nbconvert_exporter": "python",
   "pygments_lexer": "ipython3",
   "version": "3.8.3"
  }
 },
 "nbformat": 4,
 "nbformat_minor": 4
}
