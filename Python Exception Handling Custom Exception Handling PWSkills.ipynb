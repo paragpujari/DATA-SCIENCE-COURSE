{
 "cells": [
  {
   "cell_type": "code",
   "execution_count": 14,
   "id": "3717cd2c-7878-4920-abf9-c0aa31b8b7d2",
   "metadata": {},
   "outputs": [
    {
     "name": "stdin",
     "output_type": "stream",
     "text": [
      "Enter the age: 800\n"
     ]
    },
    {
     "name": "stdout",
     "output_type": "stream",
     "text": [
      "Age is too high:\n"
     ]
    }
   ],
   "source": [
    "# We can create our own exceptions\n",
    "\n",
    "class validateage(Exception):\n",
    "    # initailze the message\n",
    "    def __init__(self, msg):\n",
    "        self.msg = msg\n",
    "        \n",
    "def validate_age(age):\n",
    "    if age < 0 :\n",
    "        raise validateage(\"Age cannot be negative:\")\n",
    "    elif age > 200 :\n",
    "        raise validateage(\"Age is too high:\")\n",
    "    else:\n",
    "        print(\"Age is valid:\")\n",
    "        \n",
    "try:\n",
    "    # enter the age\n",
    "    age = int(input(\"Enter the age:\"))\n",
    "    validate_age(age)\n",
    "    # call the function\n",
    "except Exception as e:\n",
    "    print(e)"
   ]
  },
  {
   "cell_type": "code",
   "execution_count": 12,
   "id": "df35161c-5001-48a1-8169-bbae2062a92e",
   "metadata": {},
   "outputs": [
    {
     "name": "stdin",
     "output_type": "stream",
     "text": [
      "Enter your age: -71\n"
     ]
    },
    {
     "name": "stdout",
     "output_type": "stream",
     "text": [
      "Age cannot be negative:\n"
     ]
    }
   ],
   "source": [
    "# age or not\n",
    "\n",
    "class validateage(Exception):\n",
    "    def __init__(self,msg):\n",
    "        self.msg = msg\n",
    "\n",
    "\n",
    "def validate_age(age):\n",
    "    if(age < 0):\n",
    "        raise validateage(\"Age cannot be negative:\")\n",
    "    elif(age > 100):\n",
    "        raise validateage(\"Age is very high\")\n",
    "    else:\n",
    "        print(\"Age is valid:\")\n",
    "        \n",
    "\n",
    "\n",
    "\n",
    "try:\n",
    "    age = int(input(\"Enter your age:\"))\n",
    "    validate_age(age)\n",
    "except Exception as e:\n",
    "    print(e)"
   ]
  },
  {
   "cell_type": "code",
   "execution_count": null,
   "id": "a705900a-b9ef-4c6c-9955-38d39c171337",
   "metadata": {},
   "outputs": [],
   "source": []
  }
 ],
 "metadata": {
  "kernelspec": {
   "display_name": "Python 3 (ipykernel)",
   "language": "python",
   "name": "python3"
  },
  "language_info": {
   "codemirror_mode": {
    "name": "ipython",
    "version": 3
   },
   "file_extension": ".py",
   "mimetype": "text/x-python",
   "name": "python",
   "nbconvert_exporter": "python",
   "pygments_lexer": "ipython3",
   "version": "3.10.8"
  }
 },
 "nbformat": 4,
 "nbformat_minor": 5
}
