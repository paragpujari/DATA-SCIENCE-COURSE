{
 "cells": [
  {
   "cell_type": "markdown",
   "metadata": {},
   "source": [
    "# Inheritance\n",
    "\n",
    "Inheritance refers to the process of aquiring the properties of one class into another class"
   ]
  },
  {
   "cell_type": "code",
   "execution_count": 1,
   "metadata": {},
   "outputs": [
    {
     "name": "stdout",
     "output_type": "stream",
     "text": [
      "Parag Pujari\n",
      "Sikata Panda\n",
      "Manas Rnajan Pujari\n"
     ]
    }
   ],
   "source": [
    "#  1. Single Level Inheritance\n",
    "class Child:\n",
    "    def print_child(self):\n",
    "        print(\"Parag Pujari\")\n",
    "        \n",
    "class Parent(Child):\n",
    "    def print_parent(self):\n",
    "        print(\"Sikata Panda\")\n",
    "        print(\"Manas Rnajan Pujari\")\n",
    "        \n",
    "# creating the object for the class\n",
    "obj = Parent()\n",
    "obj.print_child()\n",
    "obj.print_parent()"
   ]
  },
  {
   "cell_type": "code",
   "execution_count": 3,
   "metadata": {},
   "outputs": [
    {
     "name": "stdout",
     "output_type": "stream",
     "text": [
      "10\n",
      "10\n",
      "Result is: 20\n"
     ]
    }
   ],
   "source": [
    "class Addition:\n",
    "    def __init__(self,a,b):\n",
    "        self.a = a\n",
    "        self.b = b\n",
    "        \n",
    "    def print_details(self):\n",
    "        print(self.a)\n",
    "        print(self.b)\n",
    "        \n",
    "class Sum(Addition):\n",
    "    def print_sum(self):\n",
    "        print(\"Result is:\", (self.a + self.b))\n",
    "        \n",
    "# creating the object for the class\n",
    "obj = Sum(10,10)\n",
    "obj.print_details()\n",
    "obj.print_sum()"
   ]
  },
  {
   "cell_type": "code",
   "execution_count": 5,
   "metadata": {},
   "outputs": [
    {
     "name": "stdout",
     "output_type": "stream",
     "text": [
      "10\n",
      "20\n",
      "Product of two numbers is: 200\n"
     ]
    }
   ],
   "source": [
    "# 2. Multilevel Inheritance\n",
    "\n",
    "class Numb:\n",
    "    # enter the first number\n",
    "    def enter_Numb(self,a):\n",
    "        self.a = a\n",
    "        \n",
    "    # print the first number\n",
    "    def print_Numb(self):\n",
    "        print(self.a)\n",
    "        \n",
    "class Numba(Numb):\n",
    "    # enter the second number\n",
    "    def enter_Numba(self,b):\n",
    "        self.b = b\n",
    "        \n",
    "    # print the second number\n",
    "    def print_Numba(self):\n",
    "        print(self.b)\n",
    "        \n",
    "class Product(Numba):\n",
    "    \n",
    "    # print the product of two numbers\n",
    "    def print_product(self):\n",
    "        print(\"Product of two numbers is:\", (self.a * self.b))\n",
    "        \n",
    "        \n",
    "        \n",
    "# creating the object for the class\n",
    "p = Product()\n",
    "p.enter_Numb(10)\n",
    "p.print_Numb()\n",
    "\n",
    "p.enter_Numba(20)\n",
    "p.print_Numba()\n",
    "\n",
    "p.print_product()"
   ]
  },
  {
   "cell_type": "code",
   "execution_count": 7,
   "metadata": {},
   "outputs": [
    {
     "name": "stdout",
     "output_type": "stream",
     "text": [
      "10\n",
      "30\n",
      "Product of two numbers  is: 300\n"
     ]
    }
   ],
   "source": [
    "# 3. Multiple Inheritance\n",
    "\n",
    "class A:\n",
    "    def enter_a(self,a):\n",
    "        self.a = a\n",
    "        \n",
    "    def print_a(self):\n",
    "        print(self.a)\n",
    "        \n",
    "class B:\n",
    "    def enter_b(self,b):\n",
    "        self.b = b\n",
    "        \n",
    "    def print_b(self):\n",
    "        print(self.b)\n",
    "        \n",
    "class Product(A,B):\n",
    "    def print_product(self):\n",
    "        print(\"Product of two numbers  is:\", (self.a * self.b))\n",
    "        \n",
    "# creating the object for the class\n",
    "obj = Product()\n",
    "obj.enter_a(10)\n",
    "obj.print_a()\n",
    "\n",
    "obj.enter_b(30)\n",
    "obj.print_b()\n",
    "\n",
    "obj.print_product()"
   ]
  },
  {
   "cell_type": "code",
   "execution_count": 17,
   "metadata": {},
   "outputs": [
    {
     "name": "stdout",
     "output_type": "stream",
     "text": [
      "20\n",
      "10\n",
      "Addition of numbers is: 30\n",
      "Substraction of numbers is: 16\n",
      "Mulitiplication of numbers is: 720\n",
      "Division of numbers is: 19.0\n"
     ]
    }
   ],
   "source": [
    "# 4. Hierarchical Inheritance\n",
    "\n",
    "class Numbers:\n",
    "    def enter_numbers(self,a,b):\n",
    "        self.a = a\n",
    "        self.b = b\n",
    "        \n",
    "    def print_numbers(self):\n",
    "        print(self.a)\n",
    "        print(self.b)\n",
    "        \n",
    "class Addition(Numbers):\n",
    "    def print_Addition(self):\n",
    "        print(\"Addition of numbers is:\", (self.a + self.b))\n",
    "        \n",
    "class Substraction(Numbers):\n",
    "    def print_Substraction(self):\n",
    "        print(\"Substraction of numbers is:\", (self.a - self.b))\n",
    "        \n",
    "class Multiplication(Numbers):\n",
    "    def print_multiplication(self):\n",
    "        print(\"Mulitiplication of numbers is:\", (self.a * self.b))\n",
    "\n",
    "class Division(Numbers):\n",
    "    def print_division(self):\n",
    "        print(\"Division of numbers is:\", (self.a / self.b ))\n",
    "        \n",
    "        \n",
    "# object creation\n",
    "obj = Numbers()\n",
    "obj.enter_numbers(20,10)\n",
    "obj.print_numbers()\n",
    "\n",
    "add = Addition()\n",
    "add.enter_numbers(20,10)\n",
    "add.print_Addition()\n",
    "\n",
    "\n",
    "sub = Substraction()\n",
    "sub.enter_numbers(20,4)\n",
    "sub.print_Substraction()\n",
    "\n",
    "mul = Multiplication()\n",
    "mul.enter_numbers(90,8)\n",
    "mul.print_multiplication()\n",
    "\n",
    "div = Division()\n",
    "div.enter_numbers(95,5)\n",
    "div.print_division()"
   ]
  },
  {
   "cell_type": "code",
   "execution_count": null,
   "metadata": {},
   "outputs": [],
   "source": []
  }
 ],
 "metadata": {
  "kernelspec": {
   "display_name": "Python 3",
   "language": "python",
   "name": "python3"
  },
  "language_info": {
   "codemirror_mode": {
    "name": "ipython",
    "version": 3
   },
   "file_extension": ".py",
   "mimetype": "text/x-python",
   "name": "python",
   "nbconvert_exporter": "python",
   "pygments_lexer": "ipython3",
   "version": "3.8.3"
  }
 },
 "nbformat": 4,
 "nbformat_minor": 4
}
