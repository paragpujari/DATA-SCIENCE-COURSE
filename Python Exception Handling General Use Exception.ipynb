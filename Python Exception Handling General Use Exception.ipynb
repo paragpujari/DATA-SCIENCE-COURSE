{
 "cells": [
  {
   "cell_type": "markdown",
   "id": "8c2293f6-1a78-4716-854a-8813f4adf6aa",
   "metadata": {},
   "source": [
    "# List of General Exception"
   ]
  },
  {
   "cell_type": "code",
   "execution_count": 1,
   "id": "07caedfc-c2cd-45c3-bf4a-710636332625",
   "metadata": {},
   "outputs": [
    {
     "name": "stdout",
     "output_type": "stream",
     "text": [
      "division by zero\n"
     ]
    }
   ],
   "source": [
    "# 1. Zero Division Exception\n",
    "try:\n",
    "    a = 10\n",
    "    div = a/0\n",
    "    \n",
    "except(ZeroDivisionError) as e:\n",
    "    print(e)"
   ]
  },
  {
   "cell_type": "code",
   "execution_count": 2,
   "id": "a33fe020-c152-4992-9873-625a0662aa31",
   "metadata": {},
   "outputs": [
    {
     "name": "stdout",
     "output_type": "stream",
     "text": [
      "invalid literal for int() with base 10: 'sudh'\n"
     ]
    }
   ],
   "source": [
    "# Value Error Exception\n",
    "try:\n",
    "    x = int(\"sudh\")\n",
    "    \n",
    "except(ValueError) as e:\n",
    "    print(e)"
   ]
  },
  {
   "cell_type": "code",
   "execution_count": 5,
   "id": "d170a5a9-2f31-4346-82ea-42e6e9488ab1",
   "metadata": {},
   "outputs": [
    {
     "name": "stdout",
     "output_type": "stream",
     "text": [
      "No module named 'sudh'\n"
     ]
    }
   ],
   "source": [
    "# Import error\n",
    "try:\n",
    "    import sudh\n",
    "\n",
    "except(ImportError) as e:\n",
    "    print(e)"
   ]
  },
  {
   "cell_type": "code",
   "execution_count": 7,
   "id": "7e2bebd2-1b8e-48d6-aff5-c33eb832669c",
   "metadata": {},
   "outputs": [
    {
     "name": "stdout",
     "output_type": "stream",
     "text": [
      "'key10'\n"
     ]
    }
   ],
   "source": [
    "# key error exception\n",
    "try:\n",
    "    dict = {1 : [2,3,4,5], \"key\" : [\"eroes\"]}\n",
    "    dict[\"key10\"]\n",
    "    \n",
    "except(KeyError) as e:\n",
    "    print(e)"
   ]
  },
  {
   "cell_type": "code",
   "execution_count": 8,
   "id": "9ae2d7a8-85f5-48e8-a054-7d69ccf4d131",
   "metadata": {},
   "outputs": [
    {
     "name": "stdout",
     "output_type": "stream",
     "text": [
      "'str' object has no attribute 'test'\n"
     ]
    }
   ],
   "source": [
    "# attribute error exception\n",
    "try:\n",
    "    \"sudh\".test()\n",
    "    \n",
    "except(AttributeError) as e:\n",
    "    print(e)"
   ]
  },
  {
   "cell_type": "code",
   "execution_count": 9,
   "id": "5e5ea74c-08db-4f16-964a-7dafc21a7ece",
   "metadata": {},
   "outputs": [
    {
     "name": "stdout",
     "output_type": "stream",
     "text": [
      "list index out of range\n"
     ]
    }
   ],
   "source": [
    "# list Index Out of Bound Error\n",
    "try:\n",
    "    l = [10,20,30,40,50,60,70,80,90]\n",
    "    l[100]\n",
    "    \n",
    "except(IndexError) as e:\n",
    "    print(e)"
   ]
  },
  {
   "cell_type": "code",
   "execution_count": 10,
   "id": "c3c1574f-dc6f-4c50-8492-9e2187b59340",
   "metadata": {},
   "outputs": [
    {
     "name": "stdout",
     "output_type": "stream",
     "text": [
      "can only concatenate str (not \"int\") to str\n"
     ]
    }
   ],
   "source": [
    "# Type Error Exception\n",
    "try:\n",
    "    \"sudh\" + 1234\n",
    "    \n",
    "except(TypeError) as e:\n",
    "    print(e)"
   ]
  },
  {
   "cell_type": "code",
   "execution_count": 12,
   "id": "59ed9d56-e313-4709-b2e8-23bd950058bd",
   "metadata": {},
   "outputs": [
    {
     "name": "stdout",
     "output_type": "stream",
     "text": [
      "[Errno 2] No such file or directory: 'file1.txt'\n"
     ]
    }
   ],
   "source": [
    "# file not found error exception\n",
    "try:\n",
    "    with open(\"file1.txt\",'r') as f:\n",
    "        f.read()\n",
    "except Exception as e:\n",
    "    print(e)\n",
    "    \n",
    "except(FileNotFoundError) as e:\n",
    "    print(e)"
   ]
  },
  {
   "cell_type": "code",
   "execution_count": 18,
   "id": "ac4d8f81-ae18-4511-9c5f-93e81eb19088",
   "metadata": {},
   "outputs": [],
   "source": [
    "def file_data(file):\n",
    "    try:\n",
    "        with open(file,'r') as f:\n",
    "            f.read()\n",
    "    except Exception as e:\n",
    "        print(e)\n",
    "    \n",
    "    except(FileNotFoundError) as e:\n",
    "        print(e)"
   ]
  },
  {
   "cell_type": "code",
   "execution_count": null,
   "id": "2bf3ae52-9312-4022-ab45-74e195630f17",
   "metadata": {},
   "outputs": [],
   "source": []
  }
 ],
 "metadata": {
  "kernelspec": {
   "display_name": "Python 3 (ipykernel)",
   "language": "python",
   "name": "python3"
  },
  "language_info": {
   "codemirror_mode": {
    "name": "ipython",
    "version": 3
   },
   "file_extension": ".py",
   "mimetype": "text/x-python",
   "name": "python",
   "nbconvert_exporter": "python",
   "pygments_lexer": "ipython3",
   "version": "3.10.8"
  }
 },
 "nbformat": 4,
 "nbformat_minor": 5
}
