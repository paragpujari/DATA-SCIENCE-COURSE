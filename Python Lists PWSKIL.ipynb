{
 "cells": [
  {
   "cell_type": "markdown",
   "metadata": {},
   "source": [
    "# Lists\n",
    "\n",
    "A list is a set of elements which are enclosed within square brackets.\n",
    "\n",
    "It is mutuable\n",
    "\n",
    "It can be changed at the respective index position.\n",
    "\n",
    "It begins from 0 and ends till (n-1) position."
   ]
  },
  {
   "cell_type": "code",
   "execution_count": 3,
   "metadata": {},
   "outputs": [
    {
     "name": "stdout",
     "output_type": "stream",
     "text": [
      "[]\n",
      "<class 'list'>\n",
      "['Parag', 'Pujari', 'Motherson', 27]\n",
      "[1, 2, 3, 4, 5, 6, 7, 8, 9]\n",
      "['Parag', 'Pujari', 'is', 'working', 'in', 'Motherson', 'Company']\n",
      "['Parag', 'Pujari', 'is', 'working', 'in', 'Motherson', 'Company']\n",
      "in\n",
      "['Parag', 'Pujari', 'is', 'working', 'in']\n",
      "['Parag', 'Pujari', 'is', 'working', 'in', 'Motherson', 'Company']\n",
      "['Company', 'Motherson', 'in', 'working', 'is', 'Pujari', 'Parag']\n",
      "['Company', 'working', 'Parag']\n",
      "['Data', 'Science', 'Masters']\n",
      "['Data', 'Science', 'Program']\n"
     ]
    }
   ],
   "source": [
    "# empty list\n",
    "empty = []\n",
    "print(empty)\n",
    "\n",
    "# type of list\n",
    "print(type(empty))\n",
    "\n",
    "list1 = [\"Parag\",\"Pujari\",\"Motherson\",27]\n",
    "print(list1)\n",
    "\n",
    "# call the elements using list\n",
    "x = list([1,2,3,4,5,6,7,8,9])\n",
    "print(x)\n",
    "\n",
    "# split the sentence\n",
    "text = \"Parag Pujari is working in Motherson Company\"\n",
    "print(text.split(\" \"))\n",
    "\n",
    "ans = text.split(\" \")\n",
    "print(ans)\n",
    "\n",
    "# indexing in the strings\n",
    "result = ans[4]\n",
    "print(result)\n",
    "\n",
    "print(ans[:5])\n",
    "\n",
    "# reversing the string\n",
    "print(ans)\n",
    "print(ans[::-1])\n",
    "\n",
    "print(ans[::-3])\n",
    "\n",
    "# lists are mutuable\n",
    "x = [\"Data\", \"Science\" , \"Masters\"]\n",
    "print(x)\n",
    "\n",
    "x[2] = \"Program\"\n",
    "print(x)"
   ]
  },
  {
   "cell_type": "code",
   "execution_count": 4,
   "metadata": {},
   "outputs": [
    {
     "name": "stdout",
     "output_type": "stream",
     "text": [
      "['Parag', 'Pujari', 'is', 'working', 'in', 'Motherson', 'Company', 'SQL Technlogy']\n",
      "['Parag', 'Pujari', 'is', 'working', 'in', 'Motherson', 'Company', ['He is working in SQL Technology']]\n",
      "in\n"
     ]
    }
   ],
   "source": [
    "# concatenation in the lists\n",
    "ans\n",
    "\n",
    "print(ans + ['SQL Technlogy'])\n",
    "\n",
    "print(ans + [['He is working in SQL Technology']])\n",
    "\n",
    "print(ans[4])"
   ]
  },
  {
   "cell_type": "code",
   "execution_count": 5,
   "metadata": {},
   "outputs": [
    {
     "name": "stdout",
     "output_type": "stream",
     "text": [
      "['Parag', 'Pujari', 'is', 'working', 'in', 'Motherson', 'Company']\n"
     ]
    }
   ],
   "source": [
    "print(ans)"
   ]
  },
  {
   "cell_type": "code",
   "execution_count": 6,
   "metadata": {},
   "outputs": [
    {
     "name": "stdout",
     "output_type": "stream",
     "text": [
      "['Parag', 'Pujari', 'is', 'working', 'in', 'Motherson', 'Company', ['new element', 3]]\n"
     ]
    }
   ],
   "source": [
    "x= ans + [['new element', 3]]\n",
    "print(x)"
   ]
  },
  {
   "cell_type": "code",
   "execution_count": 7,
   "metadata": {},
   "outputs": [
    {
     "name": "stdout",
     "output_type": "stream",
     "text": [
      "['Data', 'Science', 'Masters', 'Data', 'Science', 'Masters']\n"
     ]
    }
   ],
   "source": [
    "# replication in lists\n",
    "x = ['Data', 'Science', 'Masters']\n",
    "ans = x * 2\n",
    "print(ans)"
   ]
  },
  {
   "cell_type": "code",
   "execution_count": 8,
   "metadata": {},
   "outputs": [
    {
     "name": "stdout",
     "output_type": "stream",
     "text": [
      "PW\n"
     ]
    }
   ],
   "source": [
    "# check if the word is present in the string\n",
    "str = ['PW', 'Skills', 'Data', 'Science', 'Masters']\n",
    "for i in str:\n",
    "    if(i == 'PW'):\n",
    "        print(i)"
   ]
  },
  {
   "cell_type": "code",
   "execution_count": 9,
   "metadata": {},
   "outputs": [
    {
     "name": "stdout",
     "output_type": "stream",
     "text": [
      "None\n"
     ]
    }
   ],
   "source": [
    "# Append operation\n",
    "list1 = ['one','two','three','four','five']\n",
    "ans = list1.append('six')\n",
    "print(ans)"
   ]
  },
  {
   "cell_type": "code",
   "execution_count": 10,
   "metadata": {},
   "outputs": [
    {
     "data": {
      "text/plain": [
       "['one', 'two', 'three', 'four', 'five', 'six']"
      ]
     },
     "execution_count": 10,
     "metadata": {},
     "output_type": "execute_result"
    }
   ],
   "source": [
    "list1"
   ]
  },
  {
   "cell_type": "code",
   "execution_count": 11,
   "metadata": {},
   "outputs": [
    {
     "name": "stdout",
     "output_type": "stream",
     "text": [
      "None\n"
     ]
    }
   ],
   "source": [
    "# extend operation\n",
    "list2 = ['six','seven','eight','nine','ten']\n",
    "print(list1.extend(list2))"
   ]
  },
  {
   "cell_type": "code",
   "execution_count": 12,
   "metadata": {},
   "outputs": [
    {
     "name": "stdout",
     "output_type": "stream",
     "text": [
      "['one', 'two', 'three', 'four', 'five', 'six', 'six', 'seven', 'eight', 'nine', 'ten']\n"
     ]
    }
   ],
   "source": [
    "print(list1)"
   ]
  },
  {
   "cell_type": "code",
   "execution_count": 13,
   "metadata": {},
   "outputs": [
    {
     "name": "stdout",
     "output_type": "stream",
     "text": [
      "['Zebra', 'Monkey', 'Donkey', 'Lion']\n",
      "Donkey\n",
      "Zebra\n",
      "[5, 6, 2, 9, 5, 8, 6]\n",
      "2\n",
      "9\n"
     ]
    }
   ],
   "source": [
    "lst1 = [\"Zebra\",\"Monkey\",\"Donkey\",\"Lion\"]\n",
    "lst2 = [5,6,2,9,5,8,6]\n",
    "\n",
    "print(lst1)\n",
    "\n",
    "# convert the words into ASCII characters\n",
    "print(min(lst1))\n",
    "print(max(lst1))\n",
    "\n",
    "\n",
    "print(lst2)\n",
    "\n",
    "print(min(lst2))\n",
    "print(max(lst2))"
   ]
  },
  {
   "cell_type": "code",
   "execution_count": 14,
   "metadata": {},
   "outputs": [
    {
     "name": "stdout",
     "output_type": "stream",
     "text": [
      "['one', 'two', 'three', 'four', 'five', 'six', 'six', 'seven', 'eight', 'nine', 'ten']\n",
      "None\n"
     ]
    }
   ],
   "source": [
    "# insert\n",
    "\n",
    "print(list1)\n",
    "\n",
    "x= list1.insert(3,'eleven')\n",
    "print(x)"
   ]
  },
  {
   "cell_type": "code",
   "execution_count": 15,
   "metadata": {},
   "outputs": [
    {
     "name": "stdout",
     "output_type": "stream",
     "text": [
      "['one', 'two', 'three', 'eleven', 'four', 'five', 'six', 'six', 'seven', 'eight', 'nine', 'ten']\n"
     ]
    }
   ],
   "source": [
    "print(list1)"
   ]
  },
  {
   "cell_type": "code",
   "execution_count": 16,
   "metadata": {},
   "outputs": [
    {
     "data": {
      "text/plain": [
       "['one',\n",
       " 'two',\n",
       " 'three',\n",
       " 'eleven',\n",
       " 'four',\n",
       " 'five',\n",
       " 'six',\n",
       " 'six',\n",
       " 'seven',\n",
       " 'eight',\n",
       " 'nine',\n",
       " 'ten']"
      ]
     },
     "execution_count": 16,
     "metadata": {},
     "output_type": "execute_result"
    }
   ],
   "source": [
    "# Removing the elements from the list\n",
    "list1"
   ]
  },
  {
   "cell_type": "code",
   "execution_count": 18,
   "metadata": {},
   "outputs": [
    {
     "name": "stdout",
     "output_type": "stream",
     "text": [
      "['one', 'two', 'three', 'eleven', 'four', 'five', 'six', 'six', 'seven', 'eight', 'nine', 'ten']\n"
     ]
    },
    {
     "data": {
      "text/plain": [
       "'two'"
      ]
     },
     "execution_count": 18,
     "metadata": {},
     "output_type": "execute_result"
    }
   ],
   "source": [
    "# Removing the elements from the element with the help of index\n",
    "print(list1)\n",
    "\n",
    "list1.pop(1)\n"
   ]
  },
  {
   "cell_type": "code",
   "execution_count": 19,
   "metadata": {},
   "outputs": [
    {
     "name": "stdout",
     "output_type": "stream",
     "text": [
      "['one', 'three', 'eleven', 'four', 'five', 'six', 'six', 'seven', 'eight', 'nine', 'ten']\n"
     ]
    }
   ],
   "source": [
    "print(list1)"
   ]
  },
  {
   "cell_type": "code",
   "execution_count": 20,
   "metadata": {},
   "outputs": [],
   "source": [
    "# removing the element with the hel-p of remove\n",
    "list1.remove('five')"
   ]
  },
  {
   "cell_type": "code",
   "execution_count": 21,
   "metadata": {},
   "outputs": [
    {
     "name": "stdout",
     "output_type": "stream",
     "text": [
      "['one', 'three', 'eleven', 'four', 'six', 'six', 'seven', 'eight', 'nine', 'ten']\n"
     ]
    }
   ],
   "source": [
    "print(list1)"
   ]
  },
  {
   "cell_type": "code",
   "execution_count": 23,
   "metadata": {},
   "outputs": [],
   "source": [
    "# remove the elements from the list with the help of delete\n",
    "del list1[3]"
   ]
  },
  {
   "cell_type": "code",
   "execution_count": 24,
   "metadata": {},
   "outputs": [
    {
     "name": "stdout",
     "output_type": "stream",
     "text": [
      "['one', 'three', 'eleven', 'six', 'six', 'seven', 'eight', 'nine', 'ten']\n"
     ]
    }
   ],
   "source": [
    "print(list1)"
   ]
  },
  {
   "cell_type": "code",
   "execution_count": 25,
   "metadata": {},
   "outputs": [],
   "source": [
    "del list1[6]"
   ]
  },
  {
   "cell_type": "code",
   "execution_count": 26,
   "metadata": {},
   "outputs": [
    {
     "name": "stdout",
     "output_type": "stream",
     "text": [
      "['one', 'three', 'eleven', 'six', 'six', 'seven', 'nine', 'ten']\n"
     ]
    }
   ],
   "source": [
    "print(list1)"
   ]
  },
  {
   "cell_type": "code",
   "execution_count": 27,
   "metadata": {},
   "outputs": [
    {
     "name": "stdout",
     "output_type": "stream",
     "text": [
      "Length of the list is: 8\n"
     ]
    }
   ],
   "source": [
    "# length of the list\n",
    "length = len(list1)\n",
    "print(\"Length of the list is:\", length)"
   ]
  },
  {
   "cell_type": "code",
   "execution_count": 28,
   "metadata": {},
   "outputs": [
    {
     "name": "stdout",
     "output_type": "stream",
     "text": [
      "four\n"
     ]
    }
   ],
   "source": [
    "# List related keywords\n",
    "lst = ['one','two','three','four','five']\n",
    "\n",
    "if('four' in lst):\n",
    "    print('four')"
   ]
  },
  {
   "cell_type": "code",
   "execution_count": 29,
   "metadata": {},
   "outputs": [
    {
     "name": "stdout",
     "output_type": "stream",
     "text": [
      "None\n"
     ]
    }
   ],
   "source": [
    "# Reverse the list\n",
    "print(lst.reverse())"
   ]
  },
  {
   "cell_type": "code",
   "execution_count": 30,
   "metadata": {},
   "outputs": [
    {
     "name": "stdout",
     "output_type": "stream",
     "text": [
      "['five', 'four', 'three', 'two', 'one']\n"
     ]
    }
   ],
   "source": [
    "print(lst)"
   ]
  },
  {
   "cell_type": "code",
   "execution_count": 33,
   "metadata": {},
   "outputs": [
    {
     "name": "stdout",
     "output_type": "stream",
     "text": [
      "None\n"
     ]
    }
   ],
   "source": [
    "# sort = arranges the elements in the list in ascending or descending order\n",
    "lst = ['six','seven','eight','nine','ten']\n",
    "print(lst.sort(reverse = True))"
   ]
  },
  {
   "cell_type": "code",
   "execution_count": 34,
   "metadata": {},
   "outputs": [
    {
     "name": "stdout",
     "output_type": "stream",
     "text": [
      "['ten', 'six', 'seven', 'nine', 'eight']\n"
     ]
    }
   ],
   "source": [
    "print(lst)"
   ]
  },
  {
   "cell_type": "code",
   "execution_count": 37,
   "metadata": {},
   "outputs": [
    {
     "name": "stdout",
     "output_type": "stream",
     "text": [
      "None\n"
     ]
    }
   ],
   "source": [
    "lst = ['eleven','twelve','thirteen','fourteen','fifteen']\n",
    "print(lst.sort(reverse = False))"
   ]
  },
  {
   "cell_type": "code",
   "execution_count": 38,
   "metadata": {},
   "outputs": [
    {
     "name": "stdout",
     "output_type": "stream",
     "text": [
      "['eleven', 'fifteen', 'fourteen', 'thirteen', 'twelve']\n"
     ]
    }
   ],
   "source": [
    "print(lst)"
   ]
  },
  {
   "cell_type": "code",
   "execution_count": 42,
   "metadata": {},
   "outputs": [
    {
     "name": "stdout",
     "output_type": "stream",
     "text": [
      "None\n",
      "[10, 20, 30, 40, 50, 60, 70, 80, 90, 100]\n"
     ]
    }
   ],
   "source": [
    "ken = [10,20,30,40,50,60,70,80,90,100]\n",
    "print(ken.sort(reverse = False))\n",
    "print(ken)\n",
    "\n"
   ]
  },
  {
   "cell_type": "code",
   "execution_count": 43,
   "metadata": {},
   "outputs": [
    {
     "name": "stdout",
     "output_type": "stream",
     "text": [
      "None\n",
      "[100, 90, 80, 70, 60, 50, 40, 30, 20, 10]\n"
     ]
    }
   ],
   "source": [
    "print(ken.sort(reverse = True))\n",
    "print(ken)"
   ]
  },
  {
   "cell_type": "code",
   "execution_count": 44,
   "metadata": {},
   "outputs": [
    {
     "name": "stdout",
     "output_type": "stream",
     "text": [
      "[12, 22, 32, 42, 52, 62, 72, 82, 92, 102]\n",
      "[12, 22, 32, 42, 52, 62, 72, 82, 92, 102]\n"
     ]
    }
   ],
   "source": [
    "# lists having multiple references\n",
    "numbers = [12,22,32,42,52,62,72,82,92,102]\n",
    "\n",
    "# here we are copying the reference of one list into another list\n",
    "abs = numbers\n",
    "\n",
    "print(numbers)\n",
    "\n",
    "print(abs)"
   ]
  },
  {
   "cell_type": "code",
   "execution_count": 54,
   "metadata": {},
   "outputs": [
    {
     "name": "stdout",
     "output_type": "stream",
     "text": [
      "[10, 20, 30, 40, 50, 60, 70, 80]\n",
      "[10, 20, 30, 40]\n",
      "[10, 30, 50, 70]\n",
      "[80, 60, 40, 20]\n",
      "[10, 40, 70]\n",
      "[30, 50, 70]\n",
      "[70, 50]\n"
     ]
    }
   ],
   "source": [
    "# Indexing in the lists\n",
    "numbers = [10,20,30,40,50,60,70,80]\n",
    "print(numbers[:]) # extract all the elements\n",
    "print(numbers[0:4]) # extract first four elements\n",
    "\n",
    "\n",
    "# alternate elements in the list\n",
    "print(numbers[::2])\n",
    "print(numbers[::-2])\n",
    "print(numbers[::3])\n",
    "print(numbers[2::2])\n",
    "print(numbers[-2:-5:-2])"
   ]
  },
  {
   "cell_type": "code",
   "execution_count": 55,
   "metadata": {},
   "outputs": [
    {
     "name": "stdout",
     "output_type": "stream",
     "text": [
      "[1, 2, 3, 4, 'verma', 'naveen', 'murali', 'brahma']\n"
     ]
    }
   ],
   "source": [
    "# Extend using \"+\"\n",
    "\n",
    "list1 = [1,2,3,4]\n",
    "\n",
    "list2 = ['verma','naveen','murali','brahma']\n",
    "\n",
    "print(list1 + list2)"
   ]
  },
  {
   "cell_type": "code",
   "execution_count": 60,
   "metadata": {},
   "outputs": [
    {
     "name": "stdout",
     "output_type": "stream",
     "text": [
      "4\n"
     ]
    }
   ],
   "source": [
    "# list count = computes the number of elements from the list\n",
    "lis = [1,1,2,2,2,3,3,3,3,3,4,4,4,4,4,5,5,5,5,5,5,6,6,6,7,7,7,7,8,8,8,8,9,9,9]\n",
    "print(lis.count(7))"
   ]
  },
  {
   "cell_type": "code",
   "execution_count": 61,
   "metadata": {},
   "outputs": [
    {
     "name": "stdout",
     "output_type": "stream",
     "text": [
      "1 2 3 4 "
     ]
    }
   ],
   "source": [
    "# looping in the list\n",
    "list1 = [1,2,3,4]\n",
    "for i in list1:\n",
    "    print(i, end = ' ')"
   ]
  },
  {
   "cell_type": "code",
   "execution_count": 64,
   "metadata": {},
   "outputs": [
    {
     "name": "stdout",
     "output_type": "stream",
     "text": [
      "3\n",
      "8\n",
      "4\n"
     ]
    }
   ],
   "source": [
    "# Nested Lists\n",
    "# Nested Lists\n",
    "matrix = [[1,2,3,4],\n",
    "           [5,6,7,8],\n",
    "           [9,10,11,12]]\n",
    "\n",
    "print(matrix[0][2])\n",
    "print(matrix[1][3])\n",
    "print(matrix[0][3])"
   ]
  },
  {
   "cell_type": "code",
   "execution_count": 83,
   "metadata": {},
   "outputs": [
    {
     "name": "stdout",
     "output_type": "stream",
     "text": [
      "[1, 4, 9, 16, 25, 36, 49, 64, 81, 100]\n",
      "[2, 4, 6, 8, 10, 12, 14, 16, 18]\n",
      "['Parag', 'Pujari', 'is', 'working']\n",
      "['P', 'P', 'i', 'w']\n",
      "[1, 2, 3, 4, 5, 6, 7, 8, 9]\n"
     ]
    }
   ],
   "source": [
    "# list comprehension\n",
    "a = [ (i **2) for i in range(1,11) if(i != 0)]\n",
    "print(a)\n",
    "\n",
    "k = [ i  for i in range(1,20) if(i % 2 == 0)]\n",
    "print(k)\n",
    "\n",
    "# first letter in the word\n",
    "str = \"Parag Pujari is working\"\n",
    "y = str.split(' ')\n",
    "print(y)\n",
    "  \n",
    "res = [i[0] for i in y  if(i != ' ')]\n",
    "print(res)\n",
    "\n",
    "# Fatten the list of list into a single list\n",
    "lists = [[1,2,3],[4,5,6],[7,8,9]]\n",
    "res = [j for i in lists for j in i]\n",
    "print(res)"
   ]
  },
  {
   "cell_type": "code",
   "execution_count": null,
   "metadata": {},
   "outputs": [],
   "source": []
  },
  {
   "cell_type": "code",
   "execution_count": null,
   "metadata": {},
   "outputs": [],
   "source": []
  }
 ],
 "metadata": {
  "kernelspec": {
   "display_name": "Python 3",
   "language": "python",
   "name": "python3"
  },
  "language_info": {
   "codemirror_mode": {
    "name": "ipython",
    "version": 3
   },
   "file_extension": ".py",
   "mimetype": "text/x-python",
   "name": "python",
   "nbconvert_exporter": "python",
   "pygments_lexer": "ipython3",
   "version": "3.8.3"
  }
 },
 "nbformat": 4,
 "nbformat_minor": 4
}
