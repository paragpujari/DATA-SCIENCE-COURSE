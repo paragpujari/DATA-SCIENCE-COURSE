{
 "cells": [
  {
   "cell_type": "code",
   "execution_count": 9,
   "id": "603d760a-bce4-49a1-b2bd-b463e7813c93",
   "metadata": {},
   "outputs": [],
   "source": [
    "# To open the file in write mode\n",
    "f = open('test.txt','w')"
   ]
  },
  {
   "cell_type": "code",
   "execution_count": 10,
   "id": "001d90f0-e074-48ca-b05f-982c63a21b5a",
   "metadata": {},
   "outputs": [
    {
     "name": "stdout",
     "output_type": "stream",
     "text": [
      "<_io.TextIOWrapper name='test.txt' mode='w' encoding='UTF-8'>\n"
     ]
    }
   ],
   "source": [
    "print(f)"
   ]
  },
  {
   "cell_type": "code",
   "execution_count": 11,
   "id": "ce0cc8fb-79ef-4cdf-9ad7-61f2c73f631f",
   "metadata": {},
   "outputs": [
    {
     "data": {
      "text/plain": [
       "'/home/jovyan/work'"
      ]
     },
     "execution_count": 11,
     "metadata": {},
     "output_type": "execute_result"
    }
   ],
   "source": [
    "pwd # present working directory"
   ]
  },
  {
   "cell_type": "code",
   "execution_count": 12,
   "id": "825875da-f0ee-4db4-8df0-fd210d0a7702",
   "metadata": {},
   "outputs": [
    {
     "name": "stdout",
     "output_type": "stream",
     "text": [
      "'Advance Strings PWSKILLS.ipynb'\n",
      "'Decision Statements and Loops PWSKILLS.ipynb'\n",
      "'Introduction to Python PWSKILLS.ipynb'\n",
      "'Operators, Strings, Expressions PWSKILLS.ipynb'\n",
      "'Python Dictionary PWSkills.ipynb'\n",
      "'Python Files Introduction PWSkills.ipynb'\n",
      "'Python Function Part 1 PWSkills.ipynb'\n",
      "'Python Function Part 2 PWSkills.ipynb'\n",
      "'Python Function Part 3 PWSkills.ipynb'\n",
      "'Python Function Part 4 PWSkills.ipynb'\n",
      "'Python Function Part 5 PWSkills.ipynb'\n",
      "'Python Lists PWSKIL.ipynb'\n",
      "'Python OOPS Class Methods PWSkills.ipynb'\n",
      "'Python OOPS Day 1 PWSkills.ipynb'\n",
      "'Python OOPS Day 2 PWSkills.ipynb'\n",
      "'Python OOPS Day 3 PWSkills.ipynb'\n",
      "'Python OOPS Day 4 PWSkills.ipynb'\n",
      "'Python OOPS Day 5 PWSkills.ipynb'\n",
      "'Python OOPS Decorator.ipynb'\n",
      "'Python OOPS Getter Setter Deletes Functions.ipynb'\n",
      "'Python OOPS Magic Functions PWSkills.ipynb'\n",
      "'Python OOPS Static Functions PWSKills.ipynb'\n",
      "'Python OOPS Static Method PWSkills.ipynb'\n",
      "'Python Sets PWSKILLS.ipynb'\n",
      "'Python Tuples PWSkills.ipynb'\n",
      " test.txt\n"
     ]
    }
   ],
   "source": [
    "ls  # list of files in the present working directory"
   ]
  },
  {
   "cell_type": "code",
   "execution_count": 13,
   "id": "5b7c1a20-ebbd-4ac2-a3d4-8dcf89ee1afc",
   "metadata": {},
   "outputs": [
    {
     "data": {
      "text/plain": [
       "765"
      ]
     },
     "execution_count": 13,
     "metadata": {},
     "output_type": "execute_result"
    }
   ],
   "source": [
    "# To write some content in the file\n",
    "f.write(\"Data Science Masters course is highly curated and uniquely designed according to the latest industry standards. This program instills students the skills essential to knowledge discovery efforts to identify standard, novel, and truly differentiated solutions and decision-making, including skills in managing, querying, analyzing, visualizing, and extracting meaning from extremely large data sets. This trending program provides students with the statistical, mathematical and computational skills needed to meet the large-scale data science challenges of today's professional world. You will learn all the stack required to work in data science industry including cloud infrastructure and real-time industry projects. This course will be taught in Hindi language.\")"
   ]
  },
  {
   "cell_type": "code",
   "execution_count": 14,
   "id": "92dbc068-5af1-4b58-a7d0-4f99af9469f0",
   "metadata": {},
   "outputs": [],
   "source": [
    "f.close() # close the file"
   ]
  },
  {
   "cell_type": "code",
   "execution_count": 15,
   "id": "fa559ccc-94d7-4d93-b6dc-d967c6f2f72c",
   "metadata": {},
   "outputs": [],
   "source": [
    "# To insert more data in the file\n",
    "f = open('test.txt','a')"
   ]
  },
  {
   "cell_type": "code",
   "execution_count": 16,
   "id": "73c7ff17-efaf-4238-9a25-2ef48ea1c28e",
   "metadata": {},
   "outputs": [
    {
     "data": {
      "text/plain": [
       "57"
      ]
     },
     "execution_count": 16,
     "metadata": {},
     "output_type": "execute_result"
    }
   ],
   "source": [
    "f.write(' I am currently working as a Data Scientist in Motherson ')"
   ]
  },
  {
   "cell_type": "code",
   "execution_count": 17,
   "id": "5768b1c7-061d-4884-87b2-b08ca00ee971",
   "metadata": {},
   "outputs": [],
   "source": [
    "f.close()"
   ]
  },
  {
   "cell_type": "code",
   "execution_count": 28,
   "id": "680d8e23-9581-44d8-b4b7-1d745028c9d8",
   "metadata": {},
   "outputs": [],
   "source": [
    "# To read the content from the file\n",
    "f = open('test.txt','r')"
   ]
  },
  {
   "cell_type": "code",
   "execution_count": 29,
   "id": "4641298e-e914-42e6-a05c-1f5d7b9cea31",
   "metadata": {},
   "outputs": [
    {
     "data": {
      "text/plain": [
       "\"Data Science Masters course is highly curated and uniquely designed according to the latest industry standards. This program instills students the skills essential to knowledge discovery efforts to identify standard, novel, and truly differentiated solutions and decision-making, including skills in managing, querying, analyzing, visualizing, and extracting meaning from extremely large data sets. This trending program provides students with the statistical, mathematical and computational skills needed to meet the large-scale data science challenges of today's professional world. You will learn all the stack required to work in data science industry including cloud infrastructure and real-time industry projects. This course will be taught in Hindi language. I am currently working as a Data Scientist in Motherson \""
      ]
     },
     "execution_count": 29,
     "metadata": {},
     "output_type": "execute_result"
    }
   ],
   "source": [
    "# To read the contents from the file\n",
    "f.read()"
   ]
  },
  {
   "cell_type": "code",
   "execution_count": 30,
   "id": "df2af3bf-06f0-43e1-9925-d59d5dc34181",
   "metadata": {},
   "outputs": [
    {
     "data": {
      "text/plain": [
       "''"
      ]
     },
     "execution_count": 30,
     "metadata": {},
     "output_type": "execute_result"
    }
   ],
   "source": [
    "f.read()"
   ]
  },
  {
   "cell_type": "code",
   "execution_count": 31,
   "id": "4835af40-e5eb-4d4e-8c31-3e21064e08cb",
   "metadata": {},
   "outputs": [
    {
     "data": {
      "text/plain": [
       "0"
      ]
     },
     "execution_count": 31,
     "metadata": {},
     "output_type": "execute_result"
    }
   ],
   "source": [
    "# To reset the cursor's position\n",
    "f.seek(0)"
   ]
  },
  {
   "cell_type": "code",
   "execution_count": 32,
   "id": "4f504eb8-d554-4d70-bed1-c3548b480555",
   "metadata": {},
   "outputs": [
    {
     "data": {
      "text/plain": [
       "\"Data Science Masters course is highly curated and uniquely designed according to the latest industry standards. This program instills students the skills essential to knowledge discovery efforts to identify standard, novel, and truly differentiated solutions and decision-making, including skills in managing, querying, analyzing, visualizing, and extracting meaning from extremely large data sets. This trending program provides students with the statistical, mathematical and computational skills needed to meet the large-scale data science challenges of today's professional world. You will learn all the stack required to work in data science industry including cloud infrastructure and real-time industry projects. This course will be taught in Hindi language. I am currently working as a Data Scientist in Motherson \""
      ]
     },
     "execution_count": 32,
     "metadata": {},
     "output_type": "execute_result"
    }
   ],
   "source": [
    "# To again read the contents from the file\n",
    "f.read()"
   ]
  },
  {
   "cell_type": "code",
   "execution_count": 33,
   "id": "318f43a6-a533-40bc-89a1-c77c7e65b546",
   "metadata": {},
   "outputs": [
    {
     "data": {
      "text/plain": [
       "80"
      ]
     },
     "execution_count": 33,
     "metadata": {},
     "output_type": "execute_result"
    }
   ],
   "source": [
    "# To reset the cursor in the new position\n",
    "f.seek(80)"
   ]
  },
  {
   "cell_type": "code",
   "execution_count": 34,
   "id": "0d015d7f-f58a-4bc4-bd49-32d138736117",
   "metadata": {},
   "outputs": [
    {
     "data": {
      "text/plain": [
       "\" the latest industry standards. This program instills students the skills essential to knowledge discovery efforts to identify standard, novel, and truly differentiated solutions and decision-making, including skills in managing, querying, analyzing, visualizing, and extracting meaning from extremely large data sets. This trending program provides students with the statistical, mathematical and computational skills needed to meet the large-scale data science challenges of today's professional world. You will learn all the stack required to work in data science industry including cloud infrastructure and real-time industry projects. This course will be taught in Hindi language. I am currently working as a Data Scientist in Motherson \""
      ]
     },
     "execution_count": 34,
     "metadata": {},
     "output_type": "execute_result"
    }
   ],
   "source": [
    "# To again read the contents from the file\n",
    "f.read()"
   ]
  },
  {
   "cell_type": "code",
   "execution_count": 35,
   "id": "fff092ac-90f9-4241-ada5-3d44ae92d878",
   "metadata": {},
   "outputs": [],
   "source": [
    "f.close()"
   ]
  },
  {
   "cell_type": "code",
   "execution_count": 36,
   "id": "b596afb0-e924-40e6-bd01-df8a2f5e9cf1",
   "metadata": {},
   "outputs": [],
   "source": [
    "# To read the contents from the file \n",
    "f = open('test.txt', 'r')"
   ]
  },
  {
   "cell_type": "code",
   "execution_count": 37,
   "id": "82e72c12-3d88-4497-860a-6255b85dd8c5",
   "metadata": {},
   "outputs": [
    {
     "name": "stdout",
     "output_type": "stream",
     "text": [
      "Data Science Masters course is highly curated and uniquely designed according to the latest industry standards. This program instills students the skills essential to knowledge discovery efforts to identify standard, novel, and truly differentiated solutions and decision-making, including skills in managing, querying, analyzing, visualizing, and extracting meaning from extremely large data sets. This trending program provides students with the statistical, mathematical and computational skills needed to meet the large-scale data science challenges of today's professional world. You will learn all the stack required to work in data science industry including cloud infrastructure and real-time industry projects. This course will be taught in Hindi language. I am currently working as a Data Scientist in Motherson  "
     ]
    }
   ],
   "source": [
    "# To print the contents from the file\n",
    "for i in f:\n",
    "    print(i, end = ' ')"
   ]
  },
  {
   "cell_type": "code",
   "execution_count": 38,
   "id": "ef262015-3b81-438b-a7ac-81df0c50add7",
   "metadata": {},
   "outputs": [],
   "source": [
    "import os"
   ]
  },
  {
   "cell_type": "code",
   "execution_count": 39,
   "id": "2b6f3ff7-ccee-4f0d-b0a8-f07452df553b",
   "metadata": {},
   "outputs": [
    {
     "data": {
      "text/plain": [
       "822"
      ]
     },
     "execution_count": 39,
     "metadata": {},
     "output_type": "execute_result"
    }
   ],
   "source": [
    "# To know the size of the file\n",
    "os.path.getsize('test.txt')"
   ]
  },
  {
   "cell_type": "code",
   "execution_count": 41,
   "id": "d9d43b85-d499-44be-8000-193c9e542fb6",
   "metadata": {},
   "outputs": [],
   "source": [
    "# To copy the file\n",
    "import shutil"
   ]
  },
  {
   "cell_type": "code",
   "execution_count": 42,
   "id": "3b5e58be-095b-4878-80c3-5a494eeb5577",
   "metadata": {},
   "outputs": [
    {
     "data": {
      "text/plain": [
       "'new_test.txt'"
      ]
     },
     "execution_count": 42,
     "metadata": {},
     "output_type": "execute_result"
    }
   ],
   "source": [
    "shutil.copy('test.txt','new_test.txt')"
   ]
  },
  {
   "cell_type": "code",
   "execution_count": 43,
   "id": "5210b502-1d84-41c3-bc0a-885392b10343",
   "metadata": {},
   "outputs": [],
   "source": [
    "f = open('new_test.txt','r')"
   ]
  },
  {
   "cell_type": "code",
   "execution_count": 44,
   "id": "57d5d771-c34e-400f-9d0e-69f1876d8f59",
   "metadata": {},
   "outputs": [],
   "source": [
    "f.close()"
   ]
  },
  {
   "cell_type": "code",
   "execution_count": 45,
   "id": "1442a4ff-85b8-4bde-ad50-47b2a4fd1651",
   "metadata": {},
   "outputs": [],
   "source": [
    "# To delete the file \n",
    "\n",
    "os.remove('test.txt')"
   ]
  },
  {
   "cell_type": "code",
   "execution_count": 46,
   "id": "b9ced70a-9436-47f3-94fb-7760fd6b9452",
   "metadata": {},
   "outputs": [
    {
     "name": "stdout",
     "output_type": "stream",
     "text": [
      "Data Science Masters course is highly curated and uniquely designed according to the latest industry standards. This program instills students the skills essential to knowledge discovery efforts to identify standard, novel, and truly differentiated solutions and decision-making, including skills in managing, querying, analyzing, visualizing, and extracting meaning from extremely large data sets. This trending program provides students with the statistical, mathematical and computational skills needed to meet the large-scale data science challenges of today's professional world. You will learn all the stack required to work in data science industry including cloud infrastructure and real-time industry projects. This course will be taught in Hindi language. I am currently working as a Data Scientist in Motherson \n"
     ]
    }
   ],
   "source": [
    "# To open the file\n",
    "with open(\"new_test.txt\",\"r\") as f:\n",
    "    print(f.read())"
   ]
  },
  {
   "cell_type": "code",
   "execution_count": 47,
   "id": "3dcb8833-e1c6-40f3-b8cb-91ebc8e76075",
   "metadata": {},
   "outputs": [],
   "source": [
    "# Rename the file name\n",
    "os.rename('new_test.txt', 'test1.txt')"
   ]
  },
  {
   "cell_type": "code",
   "execution_count": null,
   "id": "f3cd8b94-1aa8-427f-abc7-7e10f1fa088d",
   "metadata": {},
   "outputs": [],
   "source": []
  }
 ],
 "metadata": {
  "kernelspec": {
   "display_name": "Python 3 (ipykernel)",
   "language": "python",
   "name": "python3"
  },
  "language_info": {
   "codemirror_mode": {
    "name": "ipython",
    "version": 3
   },
   "file_extension": ".py",
   "mimetype": "text/x-python",
   "name": "python",
   "nbconvert_exporter": "python",
   "pygments_lexer": "ipython3",
   "version": "3.10.8"
  }
 },
 "nbformat": 4,
 "nbformat_minor": 5
}
