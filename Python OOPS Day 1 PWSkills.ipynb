{
 "cells": [
  {
   "cell_type": "markdown",
   "metadata": {},
   "source": [
    "# OOPS\n",
    "\n",
    "OOPS Stands for Object Oriented Programming Language. Here we implement the actual use case scenarios using the concepts of objects and classes"
   ]
  },
  {
   "cell_type": "code",
   "execution_count": 2,
   "metadata": {},
   "outputs": [
    {
     "name": "stdout",
     "output_type": "stream",
     "text": [
      "<class 'int'>\n"
     ]
    }
   ],
   "source": [
    "a = 1\n",
    "print(type(a))"
   ]
  },
  {
   "cell_type": "code",
   "execution_count": 3,
   "metadata": {},
   "outputs": [
    {
     "name": "stdout",
     "output_type": "stream",
     "text": [
      "<class 'str'>\n"
     ]
    }
   ],
   "source": [
    "str = \"parag\"\n",
    "print(type(str))"
   ]
  },
  {
   "cell_type": "markdown",
   "metadata": {},
   "source": [
    "# Class\n",
    "\n",
    "Class is a group of objects that share the same properties. \n",
    "\n",
    "It does not have its own independent entity.\n",
    "\n",
    "It is a blue print of objects."
   ]
  },
  {
   "cell_type": "code",
   "execution_count": 5,
   "metadata": {},
   "outputs": [],
   "source": [
    "class Person:\n",
    "    pass"
   ]
  },
  {
   "cell_type": "markdown",
   "metadata": {},
   "source": [
    "# Object\n",
    "\n",
    "Object is an indepentity entity which has its own independent existance.\n",
    "\n"
   ]
  },
  {
   "cell_type": "code",
   "execution_count": 7,
   "metadata": {},
   "outputs": [],
   "source": [
    "class Person:\n",
    "    pass\n",
    "\n",
    "# object creation\n",
    "obj = Person()"
   ]
  },
  {
   "cell_type": "code",
   "execution_count": 8,
   "metadata": {},
   "outputs": [
    {
     "name": "stdout",
     "output_type": "stream",
     "text": [
      "Hello World\n"
     ]
    }
   ],
   "source": [
    "# using the concepts of objects and class print the message \"Hello World\"\n",
    "\n",
    "class Tools:\n",
    "    print(\"Hello World\")\n",
    "    \n",
    "# object creation\n",
    "t = Tools()"
   ]
  },
  {
   "cell_type": "code",
   "execution_count": 15,
   "metadata": {},
   "outputs": [
    {
     "name": "stdout",
     "output_type": "stream",
     "text": [
      "Enter the first number:2\n",
      "Enter the second number:1\n",
      "3\n"
     ]
    }
   ],
   "source": [
    "# addition of two numbers\n",
    "a = int(input(\"Enter the first number:\"))\n",
    "b = int(input(\"Enter the second number:\"))\n",
    "\n",
    "class Addition:\n",
    "    def sum(self, a , b):\n",
    "        print(a + b)\n",
    "\n",
    "# object creation\n",
    "obj = Addition()\n",
    "obj.sum(a,b)"
   ]
  },
  {
   "cell_type": "code",
   "execution_count": 18,
   "metadata": {},
   "outputs": [
    {
     "name": "stdout",
     "output_type": "stream",
     "text": [
      "Enter the first number:4\n",
      "Enter the second number:5\n",
      "20\n"
     ]
    }
   ],
   "source": [
    "# product of two numbers\n",
    "c = int(input(\"Enter the first number:\"))\n",
    "d = int(input(\"Enter the second number:\"))\n",
    "\n",
    "class Multiplication:\n",
    "    def product(self, c, d):\n",
    "        print(c * d)\n",
    "        \n",
    "        \n",
    "# object creation\n",
    "obj = Multiplication()\n",
    "obj.product(c,d)"
   ]
  },
  {
   "cell_type": "markdown",
   "metadata": {},
   "source": [
    "# Constructors \n",
    "\n",
    "These are the member objects that initialize the data members of the class.\n",
    "\n",
    "It has the same name as the class name.\n",
    "\n",
    "It is created during the time of the creation of the object."
   ]
  },
  {
   "cell_type": "code",
   "execution_count": 21,
   "metadata": {},
   "outputs": [],
   "source": [
    "# Default Constructor = It does not have any parameters.\n",
    "\n",
    "class Rectangle:\n",
    "    # default constructor\n",
    "    def __init__(self):\n",
    "        self.length = 120\n",
    "        self.breadth = 8\n",
    "        \n",
    "    # area of the rectangle\n",
    "    def calculate_area(self):\n",
    "        print(\"Area is:\", (self.length * self.breadth))\n",
    "        \n",
    "    # perimeter of the rectangle\n",
    "    def calculate_perimeter(self):\n",
    "        print(\"Perimeter is:\", (2 * (self.length + self.breadth)))\n",
    "    "
   ]
  },
  {
   "cell_type": "code",
   "execution_count": 22,
   "metadata": {},
   "outputs": [
    {
     "name": "stdout",
     "output_type": "stream",
     "text": [
      "Area is: 960\n",
      "Perimeter is: 256\n"
     ]
    }
   ],
   "source": [
    "# object creation\n",
    "rec = Rectangle()\n",
    "rec.calculate_area()\n",
    "rec.calculate_perimeter()"
   ]
  },
  {
   "cell_type": "code",
   "execution_count": 23,
   "metadata": {},
   "outputs": [],
   "source": [
    "# Parameterized Constructor = It has parameters\n",
    "class Rectangle:\n",
    "    # parameterized constructor\n",
    "    def __init__(self, l, b):\n",
    "        self.length = l\n",
    "        self.breadth = b\n",
    "        \n",
    "    # area of the rectangle\n",
    "    def calculate_area(self):\n",
    "        print(\"Area of the rectangle is:\", (self.length * self.breadth))\n",
    "        \n",
    "    # perimeter of the rectangle\n",
    "    def calculate_perimeter(self):\n",
    "        print(\"Perimeter of the rectangle is:\", (2 * (self.length + self.breadth)))"
   ]
  },
  {
   "cell_type": "code",
   "execution_count": 25,
   "metadata": {},
   "outputs": [
    {
     "name": "stdout",
     "output_type": "stream",
     "text": [
      "Area of the rectangle is: 13500\n",
      "Perimeter of the rectangle is: 480\n"
     ]
    }
   ],
   "source": [
    "# object creation\n",
    "rec = Rectangle(150,90)\n",
    "rec.calculate_area()\n",
    "rec.calculate_perimeter()"
   ]
  },
  {
   "cell_type": "code",
   "execution_count": null,
   "metadata": {},
   "outputs": [],
   "source": []
  }
 ],
 "metadata": {
  "kernelspec": {
   "display_name": "Python 3",
   "language": "python",
   "name": "python3"
  },
  "language_info": {
   "codemirror_mode": {
    "name": "ipython",
    "version": 3
   },
   "file_extension": ".py",
   "mimetype": "text/x-python",
   "name": "python",
   "nbconvert_exporter": "python",
   "pygments_lexer": "ipython3",
   "version": "3.8.3"
  }
 },
 "nbformat": 4,
 "nbformat_minor": 4
}
