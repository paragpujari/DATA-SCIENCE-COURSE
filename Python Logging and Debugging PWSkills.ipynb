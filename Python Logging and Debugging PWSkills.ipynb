{
 "cells": [
  {
   "cell_type": "code",
   "execution_count": 1,
   "id": "8ed23801-863f-4b74-9376-edff690c482a",
   "metadata": {},
   "outputs": [],
   "source": [
    "import logging"
   ]
  },
  {
   "cell_type": "code",
   "execution_count": 4,
   "id": "70816510-06a7-4e99-abd8-c0c1e7b8c21e",
   "metadata": {},
   "outputs": [],
   "source": [
    "logging.basicConfig(filename = 'test.log', level = logging.INFO)"
   ]
  },
  {
   "cell_type": "code",
   "execution_count": 5,
   "id": "8cccb840-6b7a-40fd-90a8-4715f90d29f0",
   "metadata": {},
   "outputs": [
    {
     "name": "stderr",
     "output_type": "stream",
     "text": [
      "INFO:root:This is my line of execution\n"
     ]
    }
   ],
   "source": [
    "# to store information in the log file\n",
    "logging.info('This is my line of execution')"
   ]
  },
  {
   "cell_type": "code",
   "execution_count": 6,
   "id": "58730622-4a24-4d20-9a09-c9f9e8d39e53",
   "metadata": {},
   "outputs": [
    {
     "name": "stderr",
     "output_type": "stream",
     "text": [
      "ERROR:root:This is my error\n"
     ]
    }
   ],
   "source": [
    "# to print the error message\n",
    "logging.error(\"This is my error\")"
   ]
  },
  {
   "cell_type": "code",
   "execution_count": 7,
   "id": "6a1eb5ee-f755-411f-a98d-ccab2eae2efc",
   "metadata": {},
   "outputs": [
    {
     "name": "stderr",
     "output_type": "stream",
     "text": [
      "CRITICAL:root:This is my critical\n"
     ]
    }
   ],
   "source": [
    "# to print the crititcal information\n",
    "logging.critical(\"This is my critical\")"
   ]
  },
  {
   "cell_type": "code",
   "execution_count": 8,
   "id": "6dd4f704-aa51-473f-bef4-a36c1bdf0190",
   "metadata": {},
   "outputs": [
    {
     "name": "stderr",
     "output_type": "stream",
     "text": [
      "WARNING:root:This is my warning\n"
     ]
    }
   ],
   "source": [
    "# to log in warning related log\n",
    "logging.warning(\"This is my warning\")"
   ]
  },
  {
   "cell_type": "code",
   "execution_count": 9,
   "id": "c4535a0d-cda2-4c24-8b14-8921e8121620",
   "metadata": {},
   "outputs": [],
   "source": [
    "# to log in debug related log\n",
    "logging.debug('This is my info related to debug')"
   ]
  },
  {
   "cell_type": "code",
   "execution_count": 13,
   "id": "c13deb52-9ddc-4126-8c42-d7c2e5afb8c8",
   "metadata": {},
   "outputs": [
    {
     "data": {
      "text/plain": [
       "'\\nNOSET\\nDEBUG\\nINFO\\nERROR\\nWARNING\\nCRITICAL\\n'"
      ]
     },
     "execution_count": 13,
     "metadata": {},
     "output_type": "execute_result"
    }
   ],
   "source": [
    "'''\n",
    "NOSET\n",
    "DEBUG\n",
    "INFO\n",
    "ERROR\n",
    "WARNING\n",
    "CRITICAL\n",
    "'''"
   ]
  },
  {
   "cell_type": "code",
   "execution_count": 14,
   "id": "32468e38-d4ad-4d8c-a734-69311c567a6a",
   "metadata": {},
   "outputs": [],
   "source": [
    "# To stop the logging\n",
    "logging.shutdown()"
   ]
  },
  {
   "cell_type": "code",
   "execution_count": 17,
   "id": "e94f49db-f07e-4773-8b18-7440bedf1ec7",
   "metadata": {},
   "outputs": [],
   "source": [
    "# To open the file in debug mode\n",
    "logging.basicConfig(filename = 'teats.log', level = logging.DEBUG)"
   ]
  },
  {
   "cell_type": "code",
   "execution_count": 19,
   "id": "d08adb05-ad92-485f-b8c7-961bc60f5cb6",
   "metadata": {},
   "outputs": [
    {
     "name": "stderr",
     "output_type": "stream",
     "text": [
      "INFO:root:This is my log related to information\n"
     ]
    }
   ],
   "source": [
    "# To log based on info mode\n",
    "logging.info('This is my log related to information')"
   ]
  },
  {
   "cell_type": "code",
   "execution_count": 20,
   "id": "6c95a3a7-24e9-42ec-83e7-b7e0c5fffe88",
   "metadata": {},
   "outputs": [
    {
     "name": "stderr",
     "output_type": "stream",
     "text": [
      "ERROR:root:This is my log based on error\n"
     ]
    }
   ],
   "source": [
    "# To log based on error mode\n",
    "logging.error('This is my log based on error')"
   ]
  },
  {
   "cell_type": "code",
   "execution_count": 21,
   "id": "98ff1f82-df66-4ff5-82b3-926032b547d9",
   "metadata": {},
   "outputs": [
    {
     "name": "stderr",
     "output_type": "stream",
     "text": [
      "WARNING:root:This is my log based on warning\n"
     ]
    }
   ],
   "source": [
    "# To log based on warning mode\n",
    "logging.warning('This is my log based on warning')"
   ]
  },
  {
   "cell_type": "code",
   "execution_count": 22,
   "id": "2f697731-0f80-4aac-9f12-07b1d816c854",
   "metadata": {},
   "outputs": [
    {
     "name": "stderr",
     "output_type": "stream",
     "text": [
      "CRITICAL:root:This is my log based on critical mode\n"
     ]
    }
   ],
   "source": [
    "# To log in based on critical mode\n",
    "logging.critical('This is my log based on critical mode')"
   ]
  },
  {
   "cell_type": "code",
   "execution_count": null,
   "id": "498d0ae2-b1d8-49e8-a07d-acb4e8186cae",
   "metadata": {},
   "outputs": [],
   "source": []
  }
 ],
 "metadata": {
  "kernelspec": {
   "display_name": "Python 3 (ipykernel)",
   "language": "python",
   "name": "python3"
  },
  "language_info": {
   "codemirror_mode": {
    "name": "ipython",
    "version": 3
   },
   "file_extension": ".py",
   "mimetype": "text/x-python",
   "name": "python",
   "nbconvert_exporter": "python",
   "pygments_lexer": "ipython3",
   "version": "3.10.8"
  }
 },
 "nbformat": 4,
 "nbformat_minor": 5
}
