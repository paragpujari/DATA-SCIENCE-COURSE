{
 "cells": [
  {
   "cell_type": "code",
   "execution_count": 12,
   "id": "8a941607-2f2a-467e-b50c-21cd7f6bbfd6",
   "metadata": {},
   "outputs": [
    {
     "name": "stdout",
     "output_type": "stream",
     "text": [
      "My name is Parag. My age is 27\n"
     ]
    }
   ],
   "source": [
    "print(\"My name is {1}. My age is {0}\".format(27, \"Parag\"))"
   ]
  },
  {
   "cell_type": "code",
   "execution_count": 13,
   "id": "d2fcf7f2-1cf2-4333-8203-910b270414ff",
   "metadata": {},
   "outputs": [
    {
     "name": "stdout",
     "output_type": "stream",
     "text": [
      "My name is Parag.My age is 27\n"
     ]
    }
   ],
   "source": [
    "name = \"Parag\"\n",
    "age = 27\n",
    "print(\"My name is {}.My age is {}\".format(name, age))"
   ]
  },
  {
   "cell_type": "code",
   "execution_count": 14,
   "id": "0d107bdb-40bb-4b1a-9bba-f448097affc4",
   "metadata": {},
   "outputs": [
    {
     "name": "stdout",
     "output_type": "stream",
     "text": [
      "My name is 27.My age is Parag\n"
     ]
    }
   ],
   "source": [
    "print(\"My name is {}.My age is {}\".format(age, name))"
   ]
  },
  {
   "cell_type": "code",
   "execution_count": 15,
   "id": "3e2c5627-33d1-450c-a33a-57567a4aa67c",
   "metadata": {},
   "outputs": [
    {
     "name": "stdout",
     "output_type": "stream",
     "text": [
      "My name is Parag.My age is 27\n"
     ]
    }
   ],
   "source": [
    "print(\"My name is {firstname}.My age is {firstage}\".format(firstname = name, firstage = age))"
   ]
  },
  {
   "cell_type": "markdown",
   "id": "501c4643-7e9a-44b5-8b13-481db6deda49",
   "metadata": {},
   "source": [
    "# Decision Making Statements"
   ]
  },
  {
   "cell_type": "markdown",
   "id": "f2523eb4-fa80-4a62-a710-d4952f2f25a3",
   "metadata": {},
   "source": [
    "# 1. If Statement"
   ]
  },
  {
   "cell_type": "code",
   "execution_count": 17,
   "id": "394eb093-3fe6-4a00-ae69-dfade833dec5",
   "metadata": {},
   "outputs": [
    {
     "name": "stdin",
     "output_type": "stream",
     "text": [
      "Enter the age 11\n"
     ]
    }
   ],
   "source": [
    "age = int(input(\"Enter the age\"))\n",
    "if(age >= 18):\n",
    "    print(\"You are eligible to vote\")"
   ]
  },
  {
   "cell_type": "markdown",
   "id": "fcecc143-e1bb-4c6b-a359-938cfff4ff7d",
   "metadata": {},
   "source": [
    "# 2. If else Statement"
   ]
  },
  {
   "cell_type": "code",
   "execution_count": 18,
   "id": "35bd8cc2-ff7d-4037-bab7-bd2c4de76a47",
   "metadata": {},
   "outputs": [
    {
     "name": "stdin",
     "output_type": "stream",
     "text": [
      "Enter the number: 12\n"
     ]
    },
    {
     "name": "stdout",
     "output_type": "stream",
     "text": [
      "Number is Positive: 12\n"
     ]
    }
   ],
   "source": [
    "number = int(input(\"Enter the number:\"))\n",
    "if(number > 0):\n",
    "    print(\"Number is Positive:\", number)\n",
    "else:\n",
    "    print(\"Number is Negative:\", number)"
   ]
  },
  {
   "cell_type": "markdown",
   "id": "adc4d87d-32f9-4a10-a682-1594bce02b4b",
   "metadata": {},
   "source": [
    "# 3. If else if Statement"
   ]
  },
  {
   "cell_type": "code",
   "execution_count": 20,
   "id": "f0530320-c15e-4184-975b-94055266e78f",
   "metadata": {},
   "outputs": [
    {
     "name": "stdin",
     "output_type": "stream",
     "text": [
      "Enter the number: -90\n"
     ]
    },
    {
     "name": "stdout",
     "output_type": "stream",
     "text": [
      "Number is Negative: -90\n"
     ]
    }
   ],
   "source": [
    "number = int(input(\"Enter the number:\"))\n",
    "if(number > 0):\n",
    "    print(\"Number is Positive:\", number)\n",
    "elif(number < 0):\n",
    "    print(\"Number is Negative:\", number)\n",
    "else:\n",
    "    print(\"Number is zero:\", number)"
   ]
  },
  {
   "cell_type": "markdown",
   "id": "1f54a6ad-00bf-4988-aa30-2cf5beaf89c1",
   "metadata": {},
   "source": [
    "# 4. Nested If Statement"
   ]
  },
  {
   "cell_type": "code",
   "execution_count": 21,
   "id": "23333e0d-9e29-4771-89eb-8c0681e0abc4",
   "metadata": {},
   "outputs": [
    {
     "name": "stdin",
     "output_type": "stream",
     "text": [
      "Enter the first number: 11\n",
      "Enter the second number: 12\n",
      "Enter the third number: 13\n"
     ]
    },
    {
     "name": "stdout",
     "output_type": "stream",
     "text": [
      "Largest number is: 13\n"
     ]
    }
   ],
   "source": [
    "a = int(input(\"Enter the first number:\"))\n",
    "b = int(input(\"Enter the second number:\"))\n",
    "c = int(input(\"Enter the third number:\"))\n",
    "\n",
    "if(a > b):\n",
    "    if(a > c):\n",
    "        print(\" Largest number is:\", a)\n",
    "    else:\n",
    "        print(\" Largest number is:\", c)\n",
    "else:\n",
    "    if(b > c):\n",
    "        print(\"Largest number is:\", b)\n",
    "    else:\n",
    "        print(\"Largest number is:\", c)"
   ]
  },
  {
   "cell_type": "markdown",
   "id": "1f8724ed-8977-4fe9-8e5b-bdb253e1b372",
   "metadata": {},
   "source": [
    "# LOOPS"
   ]
  },
  {
   "cell_type": "markdown",
   "id": "6f4fcf8c-c5a8-4c95-a872-656d09741497",
   "metadata": {},
   "source": [
    "## 1. WHILE LOOP"
   ]
  },
  {
   "cell_type": "code",
   "execution_count": 22,
   "id": "8d75694a-9564-4790-afe1-56283b7f1ec5",
   "metadata": {},
   "outputs": [
    {
     "name": "stdin",
     "output_type": "stream",
     "text": [
      "Enter the number: 121\n"
     ]
    },
    {
     "name": "stdout",
     "output_type": "stream",
     "text": [
      "Number is Palindrome: 121\n"
     ]
    }
   ],
   "source": [
    "# Palindrome number or not\n",
    "\n",
    "number = int(input(\"Enter the number:\"))\n",
    "x = number\n",
    "rev = 0\n",
    "while(x != 0):\n",
    "    d = x % 10\n",
    "    rev = (rev * 10) + d\n",
    "    x = x // 10\n",
    "if(rev == number):\n",
    "    print(\"Number is Palindrome:\", number)\n",
    "else:\n",
    "    print(\"Number is not Palindrome:\", number)\n"
   ]
  },
  {
   "cell_type": "code",
   "execution_count": 23,
   "id": "67ecf4c4-2892-496c-8541-5309ddeff3ca",
   "metadata": {},
   "outputs": [
    {
     "name": "stdin",
     "output_type": "stream",
     "text": [
      "Enter the number: 153\n"
     ]
    },
    {
     "name": "stdout",
     "output_type": "stream",
     "text": [
      "Number is Armstrong: 153\n"
     ]
    }
   ],
   "source": [
    "# Armstrong number or not\n",
    "\n",
    "number = int(input(\"Enter the number:\"))\n",
    "x = number\n",
    "sum = 0\n",
    "while(x != 0):\n",
    "    d = x % 10\n",
    "    sum = sum + (d * d * d)\n",
    "    x = x // 10\n",
    "    \n",
    "if(sum == number):\n",
    "    print(\"Number is Armstrong:\", number)\n",
    "else:\n",
    "    print(\"Number is not Armstrong:\", number)"
   ]
  },
  {
   "cell_type": "markdown",
   "id": "abbfc9a8-5d0b-45b7-b307-94ec642b3bd6",
   "metadata": {},
   "source": [
    "# 2.  For Loop"
   ]
  },
  {
   "cell_type": "code",
   "execution_count": 24,
   "id": "b0d0e33a-893b-4210-8a01-f7947db748a0",
   "metadata": {},
   "outputs": [
    {
     "name": "stdin",
     "output_type": "stream",
     "text": [
      "Enter the number: 5\n"
     ]
    },
    {
     "name": "stdout",
     "output_type": "stream",
     "text": [
      "Factorial of the number is: 120\n"
     ]
    }
   ],
   "source": [
    "# find the factorial of the number\n",
    "fact = 1\n",
    "number = int(input(\"Enter the number:\"))\n",
    "for i in range(1, number+1):\n",
    "    fact = fact * i\n",
    "print(\"Factorial of the number is:\", fact)"
   ]
  },
  {
   "cell_type": "code",
   "execution_count": 26,
   "id": "80e3603f-775f-4574-a72f-6cf9cb4e8be2",
   "metadata": {},
   "outputs": [
    {
     "name": "stdout",
     "output_type": "stream",
     "text": [
      "apples banana cherry guava strawberry "
     ]
    }
   ],
   "source": [
    "fruits = ['apples','banana','cherry','guava','strawberry']\n",
    "for i in fruits:\n",
    "    print(i, end = ' ')"
   ]
  },
  {
   "cell_type": "markdown",
   "id": "863a6234-70c7-47e4-a3f0-e26371949530",
   "metadata": {},
   "source": [
    "# 3. Nested Loops"
   ]
  },
  {
   "cell_type": "code",
   "execution_count": 27,
   "id": "6a21c6b7-8dbc-42f6-83a5-48a64dfb7b9a",
   "metadata": {},
   "outputs": [
    {
     "name": "stdout",
     "output_type": "stream",
     "text": [
      "* \n",
      "\n",
      "* * \n",
      "\n",
      "* * * \n",
      "\n",
      "* * * * \n",
      "\n",
      "* * * * * \n",
      "\n"
     ]
    }
   ],
   "source": [
    "for i in range(0,5):\n",
    "    for j in range(0, (i+1)):\n",
    "        print(\"*\", end = ' ')\n",
    "    print(\"\\n\")"
   ]
  },
  {
   "cell_type": "markdown",
   "id": "0d864475-c1de-4d72-ab57-63c670814414",
   "metadata": {},
   "source": [
    "# 4. Break Statement"
   ]
  },
  {
   "cell_type": "code",
   "execution_count": 28,
   "id": "7ee8f7e8-aecc-405c-892e-32d3e8692c45",
   "metadata": {},
   "outputs": [
    {
     "name": "stdin",
     "output_type": "stream",
     "text": [
      "Enter the number: 11\n"
     ]
    },
    {
     "name": "stdout",
     "output_type": "stream",
     "text": [
      "Number is Prime: 11\n"
     ]
    }
   ],
   "source": [
    "# To check if the number is prime or not\n",
    "\n",
    "number = int(input(\"Enter the number:\"))\n",
    "flag = True\n",
    "for i in range(2, number):\n",
    "    if(number % i == 0):\n",
    "        flag = False\n",
    "        break\n",
    "        \n",
    "if(flag == True):\n",
    "    print(\"Number is Prime:\", number)\n",
    "else:\n",
    "    print(\"Number is not Prime:\", number)"
   ]
  },
  {
   "cell_type": "markdown",
   "id": "ea305564-c883-46b7-a1ea-b95cf4d7b08a",
   "metadata": {},
   "source": [
    "# 5. Continue Statement"
   ]
  },
  {
   "cell_type": "code",
   "execution_count": 29,
   "id": "e772cd6a-2d63-4420-96e7-8ec616ed51f8",
   "metadata": {},
   "outputs": [
    {
     "name": "stdin",
     "output_type": "stream",
     "text": [
      "Enter the number: 100\n"
     ]
    },
    {
     "name": "stdout",
     "output_type": "stream",
     "text": [
      "1\n",
      "2\n",
      "4\n",
      "5\n",
      "7\n",
      "8\n",
      "10\n",
      "11\n",
      "13\n",
      "14\n",
      "16\n",
      "17\n",
      "19\n",
      "20\n",
      "22\n",
      "23\n",
      "25\n",
      "26\n",
      "28\n",
      "29\n",
      "31\n",
      "32\n",
      "34\n",
      "35\n",
      "37\n",
      "38\n",
      "40\n",
      "41\n",
      "43\n",
      "44\n",
      "46\n",
      "47\n",
      "49\n",
      "50\n",
      "52\n",
      "53\n",
      "55\n",
      "56\n",
      "58\n",
      "59\n",
      "61\n",
      "62\n",
      "64\n",
      "65\n",
      "67\n",
      "68\n",
      "70\n",
      "71\n",
      "73\n",
      "74\n",
      "76\n",
      "77\n",
      "79\n",
      "80\n",
      "82\n",
      "83\n",
      "85\n",
      "86\n",
      "88\n",
      "89\n",
      "91\n",
      "92\n",
      "94\n",
      "95\n",
      "97\n",
      "98\n"
     ]
    }
   ],
   "source": [
    "# To skip all the numbers from 1 to 100 which are divisible by 3\n",
    "number = int(input(\"Enter the number:\"))\n",
    "for i in range(1,number):\n",
    "    if(i % 3 == 0):\n",
    "        continue\n",
    "    print(i)\n",
    "      \n",
    "        "
   ]
  },
  {
   "cell_type": "code",
   "execution_count": null,
   "id": "a730cc57-07db-47c0-aafe-c60d8d727da0",
   "metadata": {},
   "outputs": [],
   "source": []
  }
 ],
 "metadata": {
  "kernelspec": {
   "display_name": "Python 3 (ipykernel)",
   "language": "python",
   "name": "python3"
  },
  "language_info": {
   "codemirror_mode": {
    "name": "ipython",
    "version": 3
   },
   "file_extension": ".py",
   "mimetype": "text/x-python",
   "name": "python",
   "nbconvert_exporter": "python",
   "pygments_lexer": "ipython3",
   "version": "3.10.8"
  }
 },
 "nbformat": 4,
 "nbformat_minor": 5
}
