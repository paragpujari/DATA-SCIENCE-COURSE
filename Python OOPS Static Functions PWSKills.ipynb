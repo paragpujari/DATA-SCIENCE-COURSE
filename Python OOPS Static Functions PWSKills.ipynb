{
 "cells": [
  {
   "cell_type": "code",
   "execution_count": 53,
   "metadata": {},
   "outputs": [],
   "source": [
    "class PWSkills:\n",
    "    # define the details for the students\n",
    "    def enter_students_details(self,n,a,s):\n",
    "        self.name = n\n",
    "        self.age  = a\n",
    "        self.salary = s\n",
    "        \n",
    "    # define the method for printing the student's details\n",
    "    def print_students_details(self):\n",
    "        print(self.name)\n",
    "        print(self.age)\n",
    "        print(self.salary)\n",
    "        \n",
    "        \n",
    "   # static method\n",
    "    @staticmethod\n",
    "    def print_mentor_list(mentor):\n",
    "        print(mentor)\n",
    "        \n",
    "    @staticmethod\n",
    "    def student_list_details(students):\n",
    "        print(students)\n",
    "   # static method inside the normal method\n",
    "    "
   ]
  },
  {
   "cell_type": "code",
   "execution_count": 54,
   "metadata": {},
   "outputs": [],
   "source": [
    "obj = PWSkills()"
   ]
  },
  {
   "cell_type": "code",
   "execution_count": 55,
   "metadata": {},
   "outputs": [],
   "source": [
    "obj.enter_students_details(\"Parag\",27,40000)"
   ]
  },
  {
   "cell_type": "code",
   "execution_count": 56,
   "metadata": {},
   "outputs": [
    {
     "name": "stdout",
     "output_type": "stream",
     "text": [
      "Parag\n",
      "27\n",
      "40000\n"
     ]
    }
   ],
   "source": [
    "obj.print_students_details()"
   ]
  },
  {
   "cell_type": "code",
   "execution_count": 57,
   "metadata": {},
   "outputs": [
    {
     "name": "stdout",
     "output_type": "stream",
     "text": [
      "Akhilesh\n"
     ]
    }
   ],
   "source": [
    "# calling the static method\n",
    "PWSkills.print_mentor_list(\"Akhilesh\")"
   ]
  },
  {
   "cell_type": "code",
   "execution_count": 58,
   "metadata": {},
   "outputs": [
    {
     "name": "stdout",
     "output_type": "stream",
     "text": [
      "Parag, Nishant, Sristy, Subham, Sudeshna\n"
     ]
    }
   ],
   "source": [
    "PWSkills.student_list_details(\"Parag, Nishant, Sristy, Subham, Sudeshna\")"
   ]
  },
  {
   "cell_type": "code",
   "execution_count": null,
   "metadata": {},
   "outputs": [],
   "source": []
  },
  {
   "cell_type": "code",
   "execution_count": null,
   "metadata": {},
   "outputs": [],
   "source": []
  },
  {
   "cell_type": "code",
   "execution_count": null,
   "metadata": {},
   "outputs": [],
   "source": []
  }
 ],
 "metadata": {
  "kernelspec": {
   "display_name": "Python 3",
   "language": "python",
   "name": "python3"
  },
  "language_info": {
   "codemirror_mode": {
    "name": "ipython",
    "version": 3
   },
   "file_extension": ".py",
   "mimetype": "text/x-python",
   "name": "python",
   "nbconvert_exporter": "python",
   "pygments_lexer": "ipython3",
   "version": "3.8.3"
  }
 },
 "nbformat": 4,
 "nbformat_minor": 4
}
