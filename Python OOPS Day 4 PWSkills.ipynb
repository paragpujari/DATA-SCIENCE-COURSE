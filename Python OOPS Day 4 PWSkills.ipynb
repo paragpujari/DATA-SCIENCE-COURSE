{
 "cells": [
  {
   "cell_type": "markdown",
   "metadata": {},
   "source": [
    "# Abstraction\n",
    "\n",
    "Abstraction refers to the process of representing all the extrenal features without going through its deep information"
   ]
  },
  {
   "cell_type": "code",
   "execution_count": 8,
   "metadata": {},
   "outputs": [
    {
     "name": "stdout",
     "output_type": "stream",
     "text": [
      "Area of the Rectangle is: 9600\n",
      "Perimeter of the Rectangle is: 400\n",
      "Area of the Square is: 6400\n",
      "Perimeter of the Square is: 320\n",
      "Area of the circle is: 248.87782\n",
      "Perimeter of the circle is: 55.9276\n",
      "Area of the Triangle is: 2800.0\n",
      "Perimeter of the Triangle is 150\n"
     ]
    }
   ],
   "source": [
    "# define the abstract class\n",
    "from abc import ABC, abstractmethod\n",
    "class Shapes(ABC):\n",
    "    # define the abstract method\n",
    "    def print_area(self):\n",
    "        pass\n",
    "    \n",
    "# define the non abstract class\n",
    "class Rectangle(Shapes):\n",
    "    # enter the length and breadth\n",
    "    def enter_rectangle(self,l,b):\n",
    "        self.length = l\n",
    "        self.breadth = b\n",
    "        \n",
    "    def print_arearectangle(self):\n",
    "        print(\"Area of the Rectangle is:\", (self.length * self.breadth))\n",
    "        \n",
    "    def print_perimeterrectangle(self):\n",
    "        print(\"Perimeter of the Rectangle is:\", 2*(self.length + self.breadth))\n",
    "        \n",
    "class Square(Shapes):\n",
    "    # enter the side of the square\n",
    "    def enter_square(self,s):\n",
    "        self.side = s\n",
    "        \n",
    "    def print_areasquare(self):\n",
    "        print(\"Area of the Square is:\", (self.side * self.side))\n",
    "        \n",
    "    def print_perimetersquare(self):\n",
    "        print(\"Perimeter of the Square is:\", 4 * self.side)\n",
    "        \n",
    "class Circle(Shapes):\n",
    "    # enter the radius of the circle\n",
    "    def enter_circle(self,r):\n",
    "        self.radius = r\n",
    "        \n",
    "    def print_areacircle(self):\n",
    "        print(\"Area of the circle is:\", (3.142 * self.radius * self.radius))\n",
    "        \n",
    "    def print_perimetercircle(self):\n",
    "        print(\"Perimeter of the circle is:\", (2 * 3.142 * self.radius))\n",
    "        \n",
    "class Triangle(Shapes):\n",
    "    # enter the base and height of the triangle\n",
    "    def enter_triangle(self,b,h):\n",
    "        self.base = b\n",
    "        self.height = h\n",
    "        \n",
    "    def print_areatriangle(self):\n",
    "        print(\"Area of the Triangle is:\", (0.5 * self.base * self.height))\n",
    "        \n",
    "    def print_perimetertriangle(self):\n",
    "        print(\"Perimeter of the Triangle is\", (self.base + self.height))\n",
    "        \n",
    "# create the object for the class\n",
    "\n",
    "# we cannot create the object for the abstract class\n",
    "\n",
    "# we can create the object for the non abstract class\n",
    "r = Rectangle()\n",
    "r.enter_rectangle(120,80)\n",
    "r.print_arearectangle()\n",
    "r.print_perimeterrectangle()\n",
    "\n",
    "s = Square()\n",
    "s.enter_square(80)\n",
    "s.print_areasquare()\n",
    "s.print_perimetersquare()\n",
    "\n",
    "c = Circle()\n",
    "c.enter_circle(8.9)\n",
    "c.print_areacircle()\n",
    "c.print_perimetercircle()\n",
    "\n",
    "t = Triangle()\n",
    "t.enter_triangle(80,70)\n",
    "t.print_areatriangle()\n",
    "t.print_perimetertriangle()"
   ]
  },
  {
   "cell_type": "code",
   "execution_count": null,
   "metadata": {},
   "outputs": [],
   "source": []
  }
 ],
 "metadata": {
  "kernelspec": {
   "display_name": "Python 3",
   "language": "python",
   "name": "python3"
  },
  "language_info": {
   "codemirror_mode": {
    "name": "ipython",
    "version": 3
   },
   "file_extension": ".py",
   "mimetype": "text/x-python",
   "name": "python",
   "nbconvert_exporter": "python",
   "pygments_lexer": "ipython3",
   "version": "3.8.3"
  }
 },
 "nbformat": 4,
 "nbformat_minor": 4
}
